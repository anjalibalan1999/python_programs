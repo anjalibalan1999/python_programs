{
 "cells": [
  {
   "cell_type": "markdown",
   "metadata": {},
   "source": [
    "FOR LOOP"
   ]
  },
  {
   "cell_type": "code",
   "execution_count": 1,
   "metadata": {},
   "outputs": [
    {
     "name": "stdout",
     "output_type": "stream",
     "text": [
      "First 10 natural numbers:\n",
      "1\n",
      "2\n",
      "3\n",
      "4\n",
      "5\n",
      "6\n",
      "7\n",
      "8\n",
      "9\n",
      "10\n"
     ]
    }
   ],
   "source": [
    "# 1. Write a program in to display the first 10 natural numbers\n",
    "\n",
    "# Display the first 10 natural numbers\n",
    "print(\"First 10 natural numbers:\")\n",
    "for i in range(1, 11):\n",
    "    print(i)\n"
   ]
  },
  {
   "cell_type": "code",
   "execution_count": 2,
   "metadata": {},
   "outputs": [
    {
     "name": "stdout",
     "output_type": "stream",
     "text": [
      "Sum of the first 10 natural numbers: 55\n"
     ]
    }
   ],
   "source": [
    "# 2. Write a program to compute the sum of the first 10 natural numbers\n",
    "\n",
    "# Compute the sum of the first 10 natural numbers\n",
    "sum_of_natural_numbers =0\n",
    "for i in range(1, 11):\n",
    "    sum_of_natural_numbers += i\n",
    "print(\"Sum of the first 10 natural numbers:\", sum_of_natural_numbers)\n"
   ]
  },
  {
   "cell_type": "code",
   "execution_count": 3,
   "metadata": {},
   "outputs": [
    {
     "name": "stdout",
     "output_type": "stream",
     "text": [
      "First 20 natural numbers:\n",
      "Sum of the first 20 natural numbers: 210\n"
     ]
    }
   ],
   "source": [
    "# 3. Write a program in to display n terms of natural numbers and their sum\n",
    "\n",
    "# Read the value of n from the user\n",
    "n = int(input(\"Enter the value of n: \"))\n",
    "print(f\"First {n} natural numbers:\")\n",
    "sum_of_natural_numbers = sum(range(1, n + 1))\n",
    "# for i in range(1, n + 1):\n",
    "#     print(i)\n",
    "print(\"Sum of the first\", n, \"natural numbers:\", sum_of_natural_numbers)\n"
   ]
  },
  {
   "cell_type": "code",
   "execution_count": 4,
   "metadata": {},
   "outputs": [
    {
     "name": "stdout",
     "output_type": "stream",
     "text": [
      "Sum of the 10 numbers: 40.0\n",
      "Average of the 10 numbers: 4.0\n"
     ]
    }
   ],
   "source": [
    "# 4. Write a program in to read 10 numbers from the keyboard and find their sum and average\n",
    "\n",
    "# Read 10 numbers from the keyboard\n",
    "numbers = [float(input(f\"Enter number {i + 1}: \")) for i in range(10)]\n",
    "\n",
    "# Calculate sum and average\n",
    "total_sum = sum(numbers)\n",
    "average = total_sum / 10\n",
    "\n",
    "# Display sum and average\n",
    "print(\"Sum of the 10 numbers:\", total_sum)\n",
    "print(\"Average of the 10 numbers:\", average)\n"
   ]
  },
  {
   "cell_type": "code",
   "execution_count": 5,
   "metadata": {},
   "outputs": [
    {
     "name": "stdout",
     "output_type": "stream",
     "text": [
      "Cube of numbers up to 3 :\n",
      "1^3 = 1\n",
      "2^3 = 8\n",
      "3^3 = 27\n"
     ]
    }
   ],
   "source": [
    "# 5. Write a program in to display the cube of the number up to an integer\n",
    "# Read an integer from the user\n",
    "n = int(input(\"Enter an integer: \"))\n",
    "\n",
    "# Display the cube of numbers up to n\n",
    "print(\"Cube of numbers up to\", n, \":\")\n",
    "for i in range(1, n + 1):\n",
    "    print(f\"{i}^3 =\", i ** 3)\n"
   ]
  },
  {
   "cell_type": "code",
   "execution_count": 6,
   "metadata": {},
   "outputs": [
    {
     "name": "stdout",
     "output_type": "stream",
     "text": [
      "Multiplier table vertically from 1 to 5\n",
      "1 x 1 = 1\n",
      "1 x 2 = 2\n",
      "1 x 3 = 3\n",
      "1 x 4 = 4\n",
      "1 x 5 = 5\n",
      "2 x 1 = 2\n",
      "2 x 2 = 4\n",
      "2 x 3 = 6\n",
      "2 x 4 = 8\n",
      "2 x 5 = 10\n",
      "3 x 1 = 3\n",
      "3 x 2 = 6\n",
      "3 x 3 = 9\n",
      "3 x 4 = 12\n",
      "3 x 5 = 15\n",
      "4 x 1 = 4\n",
      "4 x 2 = 8\n",
      "4 x 3 = 12\n",
      "4 x 4 = 16\n",
      "4 x 5 = 20\n",
      "5 x 1 = 5\n",
      "5 x 2 = 10\n",
      "5 x 3 = 15\n",
      "5 x 4 = 20\n",
      "5 x 5 = 25\n"
     ]
    }
   ],
   "source": [
    "# 6. Write a program in to display the multiplier table vertically from 1 to n.\n",
    "# Read an integer from the user\n",
    "n = int(input(\"Enter an integer: \"))\n",
    "\n",
    "# Display the multiplier table vertically from 1 to n\n",
    "print(\"Multiplier table vertically from 1 to\", n)\n",
    "for i in range(1, n + 1):\n",
    "    for j in range(1, n + 1):\n",
    "        print(f\"{i} x {j} = {i * j}\")\n"
   ]
  },
  {
   "cell_type": "code",
   "execution_count": 7,
   "metadata": {},
   "outputs": [
    {
     "name": "stdout",
     "output_type": "stream",
     "text": [
      "Multiplication table for 5:\n",
      "5 x 1 = 5\n",
      "5 x 2 = 10\n",
      "5 x 3 = 15\n",
      "5 x 4 = 20\n",
      "5 x 5 = 25\n",
      "5 x 6 = 30\n",
      "5 x 7 = 35\n",
      "5 x 8 = 40\n",
      "5 x 9 = 45\n",
      "5 x 10 = 50\n"
     ]
    }
   ],
   "source": [
    "# 7. Write a program in to display the multiplication table for a given integer\n",
    "\n",
    "# Read an integer from the user\n",
    "num = int(input(\"Enter an integer: \"))\n",
    "\n",
    "# Display the multiplication table for the given integer\n",
    "print(f\"Multiplication table for {num}:\")\n",
    "for i in range(1, 11):\n",
    "    print(f\"{num} x {i} = {num * i}\")\n"
   ]
  },
  {
   "cell_type": "code",
   "execution_count": 8,
   "metadata": {},
   "outputs": [
    {
     "name": "stdout",
     "output_type": "stream",
     "text": [
      "First 5 odd natural numbers:\n",
      "1\n",
      "3\n",
      "5\n",
      "7\n",
      "9\n",
      "Sum of the first 5 odd natural numbers: 25\n"
     ]
    }
   ],
   "source": [
    "# 8. Write a program to display the n terms of odd natural numbers and their sum\n",
    "\n",
    "# Read the value of n from the user\n",
    "n = int(input(\"Enter the value of n: \"))\n",
    "\n",
    "# Display n terms of odd natural numbers and their sum\n",
    "print(f\"First {n} odd natural numbers:\")\n",
    "odd_numbers = [2 * i + 1 for i in range(n)]\n",
    "sum_of_odd_numbers = sum(odd_numbers)\n",
    "for number in odd_numbers:\n",
    "    print(number)\n",
    "print(\"Sum of the first\", n, \"odd natural numbers:\", sum_of_odd_numbers)\n"
   ]
  },
  {
   "cell_type": "code",
   "execution_count": 9,
   "metadata": {},
   "outputs": [
    {
     "name": "stdout",
     "output_type": "stream",
     "text": [
      "24\n",
      "1*2*3*4 = 24\n"
     ]
    }
   ],
   "source": [
    "# 9. Write a program to calculate the factorial of a given number.\n",
    "\n",
    "n = 4\n",
    "f=1\n",
    "for i in range(1, n+1):\n",
    "    f = f*i\n",
    "print(f)\n",
    "# ----------method 2----------\n",
    "s=\"*\".join(str(i) for i in range(1, n+1))\n",
    "fact=1\n",
    "for i in range(1, n+1):\n",
    "    fact*=i\n",
    "print(\"{} = {}\".format(s, fact))"
   ]
  },
  {
   "cell_type": "code",
   "execution_count": 10,
   "metadata": {},
   "outputs": [
    {
     "name": "stdout",
     "output_type": "stream",
     "text": [
      "[0, 2, 4, 6, 8, 10, 12, 14, 16, 18, 20]\n",
      "110\n"
     ]
    }
   ],
   "source": [
    "# 10. Write a program to display the sum of n terms of even natural numbers\n",
    "\n",
    "\n",
    "n = 20\n",
    "sumOfNatural=0\n",
    "even_numbers = [i for i in range(0, n + 1,2)]\n",
    "print(even_numbers)\n",
    "for i in even_numbers:\n",
    "    sumOfNatural= sumOfNatural+i\n",
    "print(sumOfNatural)\n",
    "\n"
   ]
  },
  {
   "cell_type": "code",
   "execution_count": 11,
   "metadata": {},
   "outputs": [
    {
     "name": "stdout",
     "output_type": "stream",
     "text": [
      "Sum of the series: 3.666666666666666\n"
     ]
    }
   ],
   "source": [
    "# 11. Write a program in to find the sum of the series [ 1-X^2/2!+X^4/4!-.........]\n",
    "\n",
    "import math\n",
    "\n",
    "X = int(input(\"Enter the value of X: \"))\n",
    "n = int(input(\"Enter the number of terms: \"))\n",
    "\n",
    "total_sum = 0\n",
    "for i in range(n):\n",
    "    total_sum += ((-1) ** i) * (X ** (2 * i) / math.factorial(2 * i))\n",
    "\n",
    "print(\"Sum of the series:\", total_sum)\n"
   ]
  },
  {
   "cell_type": "code",
   "execution_count": 12,
   "metadata": {},
   "outputs": [
    {
     "name": "stdout",
     "output_type": "stream",
     "text": [
      "Harmonic series: 1/1 + 1/2 + 1/3 + 1/4\n",
      "Sum of the series: 2.083333333333333\n"
     ]
    }
   ],
   "source": [
    "'''\n",
    "12. Write a program in to display the n terms of a harmonic series\n",
    "and their sum.\n",
    "1 + 1/2 + 1/3 + 1/4 + 1/5 ... 1/n terms\n",
    "'''\n",
    "\n",
    "n = int(input(\"Enter the number of terms: \"))\n",
    "\n",
    "harmonic_series = \"\"\n",
    "sum_of_series = 0\n",
    "for i in range(1, n + 1):\n",
    "    harmonic_series += f\"1/{i}\"\n",
    "    sum_of_series += 1 / i\n",
    "    if i != n:\n",
    "        harmonic_series += \" + \"\n",
    "\n",
    "print(\"Harmonic series:\", harmonic_series)\n",
    "print(\"Sum of the series:\", sum_of_series)\n"
   ]
  },
  {
   "cell_type": "code",
   "execution_count": 13,
   "metadata": {},
   "outputs": [
    {
     "name": "stdout",
     "output_type": "stream",
     "text": [
      "9 + 99 + 999 + 9999 + 99999 + 999999 + 9999999 = 11111103\n"
     ]
    }
   ],
   "source": [
    "# 13. Write a program in to display the sum of the series [ 9 + 99 +999 + 9999 ...]\n",
    "n = int(input(\"Enter the number of terms: \"))\n",
    "\n",
    "total_sum = 0\n",
    "s=\"\"\n",
    "for i in range(1, n + 1):\n",
    "    total_sum += int(\"9\" * i)\n",
    "    s += \"9\"*i\n",
    "    if i !=n:\n",
    "        s+= \" + \"\n",
    "\n",
    "print(s,\"=\", total_sum)\n"
   ]
  },
  {
   "cell_type": "code",
   "execution_count": 14,
   "metadata": {},
   "outputs": [
    {
     "name": "stdout",
     "output_type": "stream",
     "text": [
      "Sum of the series: 16169288644\n"
     ]
    }
   ],
   "source": [
    "# 14. Write a program in to find the sum of the series [x - x^3 + x^5 +......]\n",
    "x = int(input(\"Enter the value of x: \"))\n",
    "n = int(input(\"Enter the number of terms: \"))\n",
    "\n",
    "total_sum = 0\n",
    "for i in range(n):\n",
    "    total_sum += ((-1) ** i) * (x ** (2 * i + 1))\n",
    "\n",
    "print(\"Sum of the series:\", total_sum)\n"
   ]
  },
  {
   "cell_type": "code",
   "execution_count": 15,
   "metadata": {},
   "outputs": [
    {
     "name": "stdout",
     "output_type": "stream",
     "text": [
      "Square natural numbers series: 1 + 4 + 9\n",
      "Sum of the series: 14\n"
     ]
    }
   ],
   "source": [
    "'''15. Write a program that displays the n terms of square natural\n",
    "numbers and their sum.\n",
    "1 4 9 16 ... n Terms'''\n",
    "\n",
    "n = int(input(\"Enter the number of terms: \"))\n",
    "\n",
    "square_series = \"\"\n",
    "sum_of_series = 0\n",
    "for i in range(1, n + 1):\n",
    "    square_series += str(i ** 2)\n",
    "    sum_of_series += i ** 2\n",
    "    if i != n:\n",
    "        square_series += \" + \"\n",
    "\n",
    "print(\"Square natural numbers series:\", square_series)\n",
    "print(\"Sum of the series:\", sum_of_series)\n"
   ]
  },
  {
   "cell_type": "code",
   "execution_count": 16,
   "metadata": {},
   "outputs": [
    {
     "name": "stdout",
     "output_type": "stream",
     "text": [
      "1 + 11 + 111 + 1111 + 11111 = 12345\n"
     ]
    }
   ],
   "source": [
    "# 16. Write a program in to find the sum of the series 1 +11 + 111 +1111 + .. n terms\n",
    "\n",
    "n = int(input(\"Enter the number of terms: \"))\n",
    "\n",
    "total_sum = 0\n",
    "s=\"\"\n",
    "for i in range(1, n + 1):\n",
    "    total_sum += int(\"1\" * i)\n",
    "    s+=\"1\"*i\n",
    "    if i!= n:\n",
    "        s+=\" + \"\n",
    "\n",
    "print(s,\"=\", total_sum)\n"
   ]
  },
  {
   "cell_type": "code",
   "execution_count": 17,
   "metadata": {},
   "outputs": [
    {
     "name": "stdout",
     "output_type": "stream",
     "text": [
      "5 is not a perfect number.\n"
     ]
    }
   ],
   "source": [
    "# 17. Write a program to check whether a given number is a 'Perfect'number or not.\n",
    "# 6 == 1,2,3 == 1+2+3=6\n",
    "\n",
    "def is_perfect_number(num):\n",
    "    sum_of_divisors = 0\n",
    "    for i in range(1, num):\n",
    "        if num % i == 0:\n",
    "            sum_of_divisors += i\n",
    "    return sum_of_divisors == num\n",
    "\n",
    "# Read the number from the user\n",
    "num = int(input(\"Enter a number: \"))\n",
    "\n",
    "# Check if the number is a perfect number\n",
    "if is_perfect_number(num):\n",
    "    print(num, \"is a perfect number.\")\n",
    "else:\n",
    "    print(num, \"is not a perfect number.\")\n"
   ]
  },
  {
   "cell_type": "code",
   "execution_count": 18,
   "metadata": {},
   "outputs": [
    {
     "name": "stdout",
     "output_type": "stream",
     "text": [
      "6 is an Armstrong number.\n"
     ]
    }
   ],
   "source": [
    "# 19. Write a program to check whether a given number is an Armstrong number or not\n",
    "\n",
    "def is_armstrong_number(num):\n",
    "    # Convert the number to a string to count the number of digits\n",
    "    num_str = str(num)\n",
    "    num_digits = len(num_str)\n",
    "    \n",
    "    # Calculate the sum of digits raised to the power of the number of digits\n",
    "    sum_of_digits = sum(int(digit) ** num_digits for digit in num_str)\n",
    "    \n",
    "    # Check if the number is equal to the sum of its own digits raised to the power of the number of digits\n",
    "    return num == sum_of_digits\n",
    "\n",
    "# Read the number from the user\n",
    "num = int(input(\"Enter a number: \"))\n",
    "\n",
    "# Check if the number is an Armstrong number\n",
    "if is_armstrong_number(num):\n",
    "    print(num, \"is an Armstrong number.\")\n",
    "else:\n",
    "    print(num, \"is not an Armstrong number.\")\n",
    "\n"
   ]
  },
  {
   "cell_type": "code",
   "execution_count": 19,
   "metadata": {},
   "outputs": [
    {
     "name": "stdout",
     "output_type": "stream",
     "text": [
      "1, 2, 3, 4, 5, 6, 7, 8, 9, 153, 370, 371, 407, "
     ]
    }
   ],
   "source": [
    "# 20. Write a program to find the Armstrong number for a given range of number\n",
    "\n",
    "n = 500\n",
    "\n",
    "for i in range(1, n+1):\n",
    "    temp = i\n",
    "    sq = len(str(i))\n",
    "    s = 0\n",
    "    while temp > 0:\n",
    "        d = temp % 10\n",
    "        s = s + (d ** sq)\n",
    "        temp = temp // 10\n",
    "    if i == s:\n",
    "        print(i, end=\", \")\n",
    "\n"
   ]
  },
  {
   "cell_type": "code",
   "execution_count": 20,
   "metadata": {},
   "outputs": [
    {
     "name": "stdout",
     "output_type": "stream",
     "text": [
      "99 is not prime\n"
     ]
    }
   ],
   "source": [
    "# 21. Write a program to determine whether a given number is prime or not\n",
    "\n",
    "# Function to check if a number is prime\n",
    "def prime(n):\n",
    "    if n <=1:\n",
    "        return False\n",
    "    for i in range(2, int(n**0.5)+1):\n",
    "        if n % i ==0:\n",
    "            return False\n",
    "    return True\n",
    "n = 99\n",
    "if prime(n):\n",
    "    print(n, \"is prime\")\n",
    "else:\n",
    "    print(n, \"is not prime\")"
   ]
  },
  {
   "cell_type": "code",
   "execution_count": 21,
   "metadata": {},
   "outputs": [
    {
     "name": "stdout",
     "output_type": "stream",
     "text": [
      "2,3,5,7,"
     ]
    }
   ],
   "source": [
    "# 22. Write a program in to find the prime numbers within a range of numbers\n",
    "\n",
    "def prime(n):\n",
    "    if n <= 1:\n",
    "        return False\n",
    "    for i in range(2, int(n**0.5)+1):\n",
    "        if n % i ==0:\n",
    "            return False\n",
    "    return True\n",
    "\n",
    "s = 2\n",
    "e = 10\n",
    "for i in range(s, e+1):\n",
    "    if prime(i):\n",
    "        print(i, end=\",\")"
   ]
  },
  {
   "cell_type": "code",
   "execution_count": 22,
   "metadata": {},
   "outputs": [
    {
     "name": "stdout",
     "output_type": "stream",
     "text": [
      "1*2*3*4*5 = 120\n"
     ]
    }
   ],
   "source": [
    "'''23. Write a program to display the first n terms of the Fibonacci\n",
    "series.\n",
    "Fibonacci series 0 1 2 3 5 8 13 ....'''\n",
    "s =\"*\".join(str(i) for i in range(1, 6))\n",
    "f=1\n",
    "for i in range(1, 6):\n",
    "    f = f * i\n",
    "print(\"{} = {}\".format(s, f))\n"
   ]
  },
  {
   "cell_type": "code",
   "execution_count": 23,
   "metadata": {},
   "outputs": [
    {
     "name": "stdout",
     "output_type": "stream",
     "text": [
      "43233\n"
     ]
    }
   ],
   "source": [
    "# 24. Write a program to display the number in reverse order\n",
    "\n",
    "n = 33234\n",
    "print(str(n)[::-1])\n"
   ]
  },
  {
   "cell_type": "code",
   "execution_count": 24,
   "metadata": {},
   "outputs": [
    {
     "name": "stdout",
     "output_type": "stream",
     "text": [
      "palindrome\n",
      "athira is not palindrome\n",
      "anjali krishna is not palindrome\n"
     ]
    }
   ],
   "source": [
    "# 25. Write a program to check whether a number is a palindrome or not.\n",
    "\n",
    "a= \"malayalam\"\n",
    "b= a[::-1]\n",
    "if a == b:\n",
    "    print(\"palindrome\")\n",
    "else:\n",
    "    print(\"not palindrome\")\n",
    "\n",
    "# -------method 2------------\n",
    "name=\"athira\"\n",
    "b=name.casefold()\n",
    "b=reversed(b)\n",
    "if list(a) == list(b):\n",
    "    print(\"{} is palindrom\".format(name))\n",
    "else:\n",
    "    print(\"{} is not palindrome\".format(name))\n",
    "\n",
    "# -----method 3-------\n",
    "string = \"anjali krishna\"\n",
    "s=0\n",
    "sa=\"\"\n",
    "length = len(string)\n",
    "for i in range(1, length+1):\n",
    "    sa+=string[length-1]\n",
    "if string == sa:\n",
    "    print(\"{} is palindrome\".format(string))\n",
    "else:\n",
    "    print(\"{} is not palindrome\".format(string))"
   ]
  },
  {
   "cell_type": "code",
   "execution_count": 25,
   "metadata": {},
   "outputs": [
    {
     "name": "stdout",
     "output_type": "stream",
     "text": [
      "108\n",
      "117\n",
      "126\n",
      "135\n",
      "144\n",
      "153\n",
      "162\n",
      "171\n",
      "180\n",
      "189\n",
      "198\n",
      "\n",
      " sum = 1683\n"
     ]
    }
   ],
   "source": [
    "'''\n",
    "26. Write a program to find the number and sum of all integers\n",
    "between 100 and 200 which are divisible by 9'''\n",
    "s=0\n",
    "for i in range(100, 200):\n",
    "    if i % 9 == 0:\n",
    "        print(i)\n",
    "        s+=i\n",
    "print(\"\\n sum =\",s)"
   ]
  },
  {
   "cell_type": "code",
   "execution_count": 26,
   "metadata": {},
   "outputs": [
    {
     "name": "stdout",
     "output_type": "stream",
     "text": [
      "145 is a Strong Number.\n"
     ]
    }
   ],
   "source": [
    "# program to check whether a number is a Strong Number or not\n",
    "def is_strong_number(num):\n",
    "    factorial_sum = sum(factorial(int(digit)) for digit in str(num))\n",
    "    return factorial_sum == num\n",
    "\n",
    "def factorial(n):\n",
    "    if n == 0 or n == 1:\n",
    "        return 1\n",
    "    return n * factorial(n - 1)\n",
    "\n",
    "number = int(input(\"Enter a number: \"))\n",
    "if is_strong_number(number):\n",
    "    print(f\"{number} is a Strong Number.\")\n",
    "else:\n",
    "    print(f\"{number} is not a Strong Number.\")\n"
   ]
  },
  {
   "cell_type": "code",
   "execution_count": 27,
   "metadata": {},
   "outputs": [
    {
     "name": "stdout",
     "output_type": "stream",
     "text": [
      "Strong Numbers in range: [1, 2, 145]\n"
     ]
    }
   ],
   "source": [
    "# program to find Strong Numbers within a range of numbers\n",
    "def find_strong_numbers_in_range(start, end):\n",
    "    strong_numbers = []\n",
    "    for num in range(start, end + 1):\n",
    "        if is_strong_number(num):\n",
    "            strong_numbers.append(num)\n",
    "    return strong_numbers\n",
    "\n",
    "start_range = int(input(\"Enter the start of the range: \"))\n",
    "end_range = int(input(\"Enter the end of the range: \"))\n",
    "strong_numbers = find_strong_numbers_in_range(start_range, end_range)\n",
    "print(\"Strong Numbers in range:\", strong_numbers)\n"
   ]
  },
  {
   "cell_type": "code",
   "execution_count": 28,
   "metadata": {},
   "outputs": [
    {
     "name": "stdout",
     "output_type": "stream",
     "text": [
      "4 can be expressed as the sum of two primes: (2, 2)\n"
     ]
    }
   ],
   "source": [
    "#  check whether a number can be expressed as the sum of two prime\n",
    "def is_prime(num):\n",
    "    if num <= 1:\n",
    "        return False\n",
    "    for i in range(2, int(num ** 0.5) + 1):\n",
    "        if num % i == 0:\n",
    "            return False\n",
    "    return True\n",
    "\n",
    "def can_be_expressed_as_sum_of_two_primes(n):\n",
    "    for i in range(2, n):\n",
    "        if is_prime(i) and is_prime(n - i):\n",
    "            return True, (i, n - i)\n",
    "    return False, None\n",
    "\n",
    "number = int(input(\"Enter a number: \"))\n",
    "result, primes = can_be_expressed_as_sum_of_two_primes(number)\n",
    "if result:\n",
    "    print(f\"{number} can be expressed as the sum of two primes: {primes}\")\n",
    "else:\n",
    "    print(f\"{number} cannot be expressed as the sum of two primes.\")\n"
   ]
  },
  {
   "cell_type": "code",
   "execution_count": 29,
   "metadata": {},
   "outputs": [
    {
     "name": "stdout",
     "output_type": "stream",
     "text": [
      "Reversed string: malayalam\n",
      "Original String: Hello, World!\n",
      "Reversed String: !dlroW ,olleH\n"
     ]
    }
   ],
   "source": [
    "#  program to print a string in reverse order\n",
    "\n",
    "# method 1\n",
    "def reverse_string(s):\n",
    "    return s[::-1]\n",
    "\n",
    "string = input(\"Enter a string: \")\n",
    "reversed_string = reverse_string(string)\n",
    "print(\"Reversed string:\", reversed_string)\n",
    "\n",
    "\n",
    "# method 2\n",
    "# Input string\n",
    "input_string = \"Hello, World!\"\n",
    "\n",
    "# Reverse string using for loop\n",
    "reversed_string = \"\"\n",
    "\n",
    "for char in input_string:\n",
    "    reversed_string = char + reversed_string\n",
    "\n",
    "# Print the reversed string\n",
    "print(\"Original String:\", input_string)\n",
    "print(\"Reversed String:\", reversed_string)\n"
   ]
  }
 ],
 "metadata": {
  "kernelspec": {
   "display_name": "Python 3",
   "language": "python",
   "name": "python3"
  },
  "language_info": {
   "codemirror_mode": {
    "name": "ipython",
    "version": 3
   },
   "file_extension": ".py",
   "mimetype": "text/x-python",
   "name": "python",
   "nbconvert_exporter": "python",
   "pygments_lexer": "ipython3",
   "version": "3.10.2"
  }
 },
 "nbformat": 4,
 "nbformat_minor": 2
}
