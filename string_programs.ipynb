{
 "cells": [
  {
   "cell_type": "markdown",
   "metadata": {},
   "source": [
    "STRING PROGRAMS"
   ]
  },
  {
   "cell_type": "code",
   "execution_count": 3,
   "metadata": {},
   "outputs": [
    {
     "name": "stdout",
     "output_type": "stream",
     "text": [
      "You entered: python programs\n"
     ]
    }
   ],
   "source": [
    "# 1. Program to Input a String and Print It\n",
    "\n",
    "user_input = input(\"Enter a string: \")\n",
    "print(\"You entered:\", user_input)"
   ]
  },
  {
   "cell_type": "code",
   "execution_count": 3,
   "metadata": {},
   "outputs": [
    {
     "name": "stdout",
     "output_type": "stream",
     "text": [
      "entered string: welcome\n",
      "The length of the string is: 7\n"
     ]
    }
   ],
   "source": [
    "# 2. Find the length of a string without using library functions\n",
    "user_input = input(\"Enter a string: \")\n",
    "length = 0\n",
    "print(f\"entered string: {user_input}\")\n",
    "for _ in user_input:\n",
    "    length += 1\n",
    "\n",
    "print(\"The length of the string is:\", length)\n"
   ]
  },
  {
   "cell_type": "code",
   "execution_count": 8,
   "metadata": {},
   "outputs": [
    {
     "name": "stdout",
     "output_type": "stream",
     "text": [
      "w\n",
      "e\n",
      "l\n",
      "c\n",
      "o\n",
      "m\n",
      "e\n"
     ]
    }
   ],
   "source": [
    "# 3. Program to Separate Individual Characters from a String\n",
    "\n",
    "user_input = input(\"Enter a string: \")\n",
    "\n",
    "for char in user_input:\n",
    "    print(char)"
   ]
  },
  {
   "cell_type": "code",
   "execution_count": 6,
   "metadata": {},
   "outputs": [
    {
     "name": "stdout",
     "output_type": "stream",
     "text": [
      "tnempoleved nohtyp"
     ]
    }
   ],
   "source": [
    "# 4. Program to Print Individual Characters of a String in Reverse Order\n",
    "\n",
    "user_input = input(\"Enter a string: \")\n",
    "\n",
    "for char in reversed(user_input):\n",
    "    print(char, end=\"\")"
   ]
  },
  {
   "cell_type": "code",
   "execution_count": 10,
   "metadata": {},
   "outputs": [
    {
     "name": "stdout",
     "output_type": "stream",
     "text": [
      "entered string: welcome to python programming\n",
      "The total number of words in the string is: 4\n"
     ]
    }
   ],
   "source": [
    "# 5. Program to Count the Total Number of Words in a String\n",
    "\n",
    "user_input = input(\"Enter a string: \")\n",
    "print(f\"entered string: {user_input}\")\n",
    "words = user_input.split()\n",
    "word_count = len(words)\n",
    "\n",
    "print(\"The total number of words in the string is:\", word_count)"
   ]
  },
  {
   "cell_type": "code",
   "execution_count": 12,
   "metadata": {},
   "outputs": [
    {
     "name": "stdout",
     "output_type": "stream",
     "text": [
      "string 1: python \n",
      "string 2: develop\n",
      "The strings are not equal.\n"
     ]
    }
   ],
   "source": [
    "# 6. Program to Compare Two Strings Without Using String Library Functions\n",
    "\n",
    "str1 = input(\"Enter the first string: \")\n",
    "str2 = input(\"Enter the second string: \")\n",
    "print(f\"string 1: {str1}\")\n",
    "print(f\"string 2: {str2}\")\n",
    "if len(str1) != len(str2):\n",
    "    print(\"The strings are not equal.\")\n",
    "else:\n",
    "    equal = True\n",
    "    for i in range(len(str1)):\n",
    "        if str1[i] != str2[i]:\n",
    "            equal = False\n",
    "            break\n",
    "\n",
    "    if equal:\n",
    "        print(\"The strings are equal.\")\n",
    "    else:\n",
    "        print(\"The strings are not equal.\")"
   ]
  },
  {
   "cell_type": "code",
   "execution_count": 15,
   "metadata": {},
   "outputs": [
    {
     "name": "stdout",
     "output_type": "stream",
     "text": [
      "entered string is: hello, welcome to python programming 2.0\n",
      "Alphabets: 31\n",
      "Digits: 2\n",
      "Special Characters: 7\n"
     ]
    }
   ],
   "source": [
    "# 7. Program to Count the Total Number of Alphabets, Digits, and Special Characters in a String\n",
    "\n",
    "user_input = input(\"Enter a string: \")\n",
    "print(f\"entered string is: {user_input}\")\n",
    "alphabets = digits = special_chars = 0\n",
    "\n",
    "for char in user_input:\n",
    "    if char.isalpha():\n",
    "        alphabets += 1\n",
    "    elif char.isdigit():\n",
    "        digits += 1\n",
    "    else:\n",
    "        special_chars += 1\n",
    "\n",
    "print(\"Alphabets:\", alphabets)\n",
    "print(\"Digits:\", digits)\n",
    "print(\"Special Characters:\", special_chars)"
   ]
  },
  {
   "cell_type": "code",
   "execution_count": 16,
   "metadata": {},
   "outputs": [
    {
     "name": "stdout",
     "output_type": "stream",
     "text": [
      "enteres string is: hello python\n",
      "The copied string is: hello python\n"
     ]
    }
   ],
   "source": [
    "# 8. Program to Copy One String to Another String\n",
    "\n",
    "str1 = input(\"Enter a string: \")\n",
    "print(f\"enteres string is: {str1}\")\n",
    "# Copy str1 to str2\n",
    "str2 = \"\"\n",
    "for char in str1:\n",
    "    str2 += char\n",
    "\n",
    "print(\"The copied string is:\", str2)"
   ]
  },
  {
   "cell_type": "code",
   "execution_count": 17,
   "metadata": {},
   "outputs": [
    {
     "name": "stdout",
     "output_type": "stream",
     "text": [
      "entered string is: hello welcome to python programs\n",
      "Vowels: 9\n",
      "Consonants: 19\n"
     ]
    }
   ],
   "source": [
    "# 9. Count the total number of vowels and consonants in a string\n",
    "user_input = input(\"Enter a string: \").lower()\n",
    "print(f\"entered string is: {user_input}\")\n",
    "vowels = consonants = 0\n",
    "vowel_set = \"aeiou\"\n",
    "\n",
    "for char in user_input:\n",
    "    if char.isalpha():\n",
    "        if char in vowel_set:\n",
    "            vowels += 1\n",
    "        else:\n",
    "            consonants += 1\n",
    "\n",
    "print(\"Vowels:\", vowels)\n",
    "print(\"Consonants:\", consonants)\n"
   ]
  },
  {
   "cell_type": "code",
   "execution_count": 18,
   "metadata": {},
   "outputs": [
    {
     "name": "stdout",
     "output_type": "stream",
     "text": [
      "entered string is: welcome to python programming language\n",
      "The character that appears the most is: o\n"
     ]
    }
   ],
   "source": [
    "# 10. Find the maximum number of characters in a string\n",
    "user_input = input(\"Enter a string: \")\n",
    "print(f\"entered string is: {user_input}\")\n",
    "char_count = {}\n",
    "for char in user_input:\n",
    "    if char in char_count:\n",
    "        char_count[char] += 1\n",
    "    else:\n",
    "        char_count[char] = 1\n",
    "\n",
    "max_char = max(char_count, key=char_count.get)\n",
    "print(\"The character that appears the most is:\", max_char)\n"
   ]
  },
  {
   "cell_type": "code",
   "execution_count": 19,
   "metadata": {},
   "outputs": [
    {
     "name": "stdout",
     "output_type": "stream",
     "text": [
      "entered string is: welcome home\n",
      "String after swapping case: WELCOME HOME\n"
     ]
    }
   ],
   "source": [
    "# 11. Replace lowercase characters with uppercase and vice versa\n",
    "user_input = input(\"Enter a sentence: \")\n",
    "print(f\"entered string is: {user_input}\")\n",
    "swapped_string = \"\"\n",
    "for char in user_input:\n",
    "    if char.islower():\n",
    "        swapped_string += char.upper()\n",
    "    elif char.isupper():\n",
    "        swapped_string += char.lower()\n",
    "    else:\n",
    "        swapped_string += char\n",
    "\n",
    "print(\"String after swapping case:\", swapped_string)\n"
   ]
  },
  {
   "cell_type": "code",
   "execution_count": 21,
   "metadata": {},
   "outputs": [
    {
     "name": "stdout",
     "output_type": "stream",
     "text": [
      "enteres string is: the give word is find 2 time in the specified sentance\n",
      "The word 'the' appears 2 times.\n"
     ]
    }
   ],
   "source": [
    "# 12. Find the number of times 'the' appears in a given string\n",
    "user_input = input(\"Enter a string: \").lower()\n",
    "print(f\"enteres string is: {user_input}\")\n",
    "word_count = user_input.split().count('the')\n",
    "\n",
    "print(\"The word 'the' appears\", word_count, \"times.\")\n"
   ]
  },
  {
   "cell_type": "code",
   "execution_count": 23,
   "metadata": {},
   "outputs": [
    {
     "name": "stdout",
     "output_type": "stream",
     "text": [
      "entered string is: python@123\n",
      "String after removing non-alphabet characters: python\n"
     ]
    }
   ],
   "source": [
    "# 13. Remove characters from a string except alphabets\n",
    "user_input = input(\"Enter a string: \")\n",
    "print(f\"entered string is: {user_input}\")\n",
    "filtered_string = \"\"\n",
    "for char in user_input:\n",
    "    if char.isalpha():\n",
    "        filtered_string += char\n",
    "\n",
    "print(\"String after removing non-alphabet characters:\", filtered_string)\n"
   ]
  },
  {
   "cell_type": "code",
   "execution_count": 24,
   "metadata": {},
   "outputs": [
    {
     "name": "stdout",
     "output_type": "stream",
     "text": [
      "enteres first string: welcome\n",
      "entered second string: home\n",
      "Combined string: welcomehome\n"
     ]
    }
   ],
   "source": [
    "# 14. Combine two strings manually\n",
    "str1 = input(\"Enter the first string: \")\n",
    "str2 = input(\"Enter the second string: \")\n",
    "print(f\"enteres first string: {str1}\")\n",
    "print(f\"entered second string: {str2}\")\n",
    "combined_string = \"\"\n",
    "for char in str1:\n",
    "    combined_string += char\n",
    "for char in str2:\n",
    "    combined_string += char\n",
    "\n",
    "print(\"Combined string:\", combined_string)\n"
   ]
  },
  {
   "cell_type": "code",
   "execution_count": 25,
   "metadata": {},
   "outputs": [
    {
     "name": "stdout",
     "output_type": "stream",
     "text": [
      "entered string is: python world\n",
      "Largest word: python\n",
      "Smallest word: world\n"
     ]
    }
   ],
   "source": [
    "# 15. Find the largest and smallest words in a string\n",
    "user_input = input(\"Enter a string: \")\n",
    "print(f\"entered string is: {user_input}\")\n",
    "words = user_input.split()\n",
    "\n",
    "largest_word = max(words, key=len)\n",
    "smallest_word = min(words, key=len)\n",
    "\n",
    "print(\"Largest word:\", largest_word)\n",
    "print(\"Smallest word:\", smallest_word)\n"
   ]
  },
  {
   "cell_type": "code",
   "execution_count": 27,
   "metadata": {},
   "outputs": [
    {
     "name": "stdout",
     "output_type": "stream",
     "text": [
      "entered string is: Hello guys, Welcome to the PYTHON classs\n",
      "String in uppercase: HELLO GUYS, WELCOME TO THE PYTHON CLASSS\n"
     ]
    }
   ],
   "source": [
    "# 16. Convert a string to uppercase\n",
    "user_input = input(\"Enter a string: \")\n",
    "print(f\"entered string is: {user_input}\")\n",
    "uppercase_string = \"\"\n",
    "for char in user_input:\n",
    "    if char.islower():\n",
    "        uppercase_string += char.upper()\n",
    "    else:\n",
    "        uppercase_string += char\n",
    "\n",
    "print(\"String in uppercase:\", uppercase_string)\n"
   ]
  },
  {
   "cell_type": "code",
   "execution_count": 28,
   "metadata": {},
   "outputs": [
    {
     "name": "stdout",
     "output_type": "stream",
     "text": [
      "String in lowercase: hello guys, welcome to the python classs\n"
     ]
    }
   ],
   "source": [
    "# 17. Convert a string to lowercase\n",
    "user_input = input(\"Enter a string: \")\n",
    "\n",
    "lowercase_string = \"\"\n",
    "for char in user_input:\n",
    "    if char.isupper():\n",
    "        lowercase_string += char.lower()\n",
    "    else:\n",
    "        lowercase_string += char\n",
    "\n",
    "print(\"String in lowercase:\", lowercase_string)\n"
   ]
  },
  {
   "cell_type": "code",
   "execution_count": 31,
   "metadata": {},
   "outputs": [
    {
     "name": "stdout",
     "output_type": "stream",
     "text": [
      "10011101 is a Hexadecimal Digit.\n"
     ]
    }
   ],
   "source": [
    "# 18. Check whether a character is a Hexadecimal Digit\n",
    "char = input(\"Enter a character: \")\n",
    "\n",
    "if char.isdigit() or (char.lower() in 'abcdef'):\n",
    "    print(f\"{char} is a Hexadecimal Digit.\")\n",
    "else:\n",
    "    print(f\"{char} is not a Hexadecimal Digit.\")\n"
   ]
  },
  {
   "cell_type": "code",
   "execution_count": 34,
   "metadata": {},
   "outputs": [
    {
     "name": "stdout",
     "output_type": "stream",
     "text": [
      "entered string is: Hello\n",
      "Hello is not an uppercase letter.\n"
     ]
    }
   ],
   "source": [
    "# 19. Check whether a letter is uppercase\n",
    "char = input(\"Enter a letter: \")\n",
    "print(f\"entered string is: {char}\")\n",
    "if char.isupper():\n",
    "    print(f\"{char} is an uppercase letter.\")\n",
    "else:\n",
    "    print(f\"{char} is not an uppercase letter.\")\n"
   ]
  },
  {
   "cell_type": "code",
   "execution_count": 35,
   "metadata": {},
   "outputs": [
    {
     "name": "stdout",
     "output_type": "stream",
     "text": [
      "entered string is: welcome to python tutorials\n",
      "entered replacement character: #\n",
      "Modified string: welcome#to#python#tutorials\n"
     ]
    }
   ],
   "source": [
    "# 20. Replace spaces in a string with a specific character\n",
    "user_input = input(\"Enter a string: \")\n",
    "replacement_char = input(\"Enter the character to replace spaces with: \")\n",
    "print(f\"entered string is: {user_input}\")\n",
    "print(f\"entered replacement character: {replacement_char}\")\n",
    "modified_string = \"\"\n",
    "for char in user_input:\n",
    "    if char == ' ':\n",
    "        modified_string += replacement_char\n",
    "    else:\n",
    "        modified_string += char\n",
    "\n",
    "print(\"Modified string:\", modified_string)\n"
   ]
  },
  {
   "cell_type": "code",
   "execution_count": 36,
   "metadata": {},
   "outputs": [
    {
     "name": "stdout",
     "output_type": "stream",
     "text": [
      "entered string is: hello world!\n",
      "Number of punctuation characters: 1\n"
     ]
    }
   ],
   "source": [
    "# 21. Count the number of punctuation characters in a string\n",
    "import string\n",
    "\n",
    "user_input = input(\"Enter a string: \")\n",
    "print(f\"entered string is: {user_input}\")\n",
    "punctuation_count = sum(1 for char in user_input if char in string.punctuation)\n",
    "\n",
    "print(\"Number of punctuation characters:\", punctuation_count)\n"
   ]
  },
  {
   "cell_type": "code",
   "execution_count": 41,
   "metadata": {},
   "outputs": [
    {
     "name": "stdout",
     "output_type": "stream",
     "text": [
      "entered string is: palakkad kerala india. hello\n",
      "String before the newline character: palakkad kerala india. hello\n"
     ]
    }
   ],
   "source": [
    "# 22. Print only the string before the new line character\n",
    "user_input = input(\"Enter a string (with newline characters): \")\n",
    "print(f\"entered string is: {user_input}\")\n",
    "result = user_input.split('\\n')[0]\n",
    "print(\"String before the newline character:\", result)\n"
   ]
  },
  {
   "cell_type": "code",
   "execution_count": 43,
   "metadata": {},
   "outputs": [
    {
     "name": "stdout",
     "output_type": "stream",
     "text": [
      "entered string is: PyThon\n",
      "PyThon is not a lowercase letter.\n"
     ]
    }
   ],
   "source": [
    "# 23. Check whether a letter is lowercase\n",
    "char = input(\"Enter a letter: \")\n",
    "print(f\"entered string is: {char}\")\n",
    "if char.islower():\n",
    "    print(f\"{char} is a lowercase letter.\")\n",
    "else:\n",
    "    print(f\"{char} is not a lowercase letter.\")\n"
   ]
  },
  {
   "cell_type": "code",
   "execution_count": 45,
   "metadata": {},
   "outputs": [
    {
     "name": "stdout",
     "output_type": "stream",
     "text": [
      "entered string is: 123\n",
      "123 is a digit.\n"
     ]
    }
   ],
   "source": [
    "# 24. Check whether a character is a digit\n",
    "char = input(\"Enter a character: \")\n",
    "print(f\"entered string is: {char}\")\n",
    "if char.isdigit():\n",
    "    print(f\"{char} is a digit.\")\n",
    "else:\n",
    "    print(f\"{char} is not a digit.\")\n"
   ]
  },
  {
   "cell_type": "code",
   "execution_count": 46,
   "metadata": {},
   "outputs": [
    {
     "name": "stdout",
     "output_type": "stream",
     "text": [
      "entered string\n",
      "Words: ['hello', 'welcome', 'to', 'python', 'programming', 'tutorial']\n"
     ]
    }
   ],
   "source": [
    "# 25. Split strings by space into words\n",
    "user_input = input(\"Enter a string: \")\n",
    "print(f\"entered string\")\n",
    "words = []\n",
    "word = \"\"\n",
    "for char in user_input:\n",
    "    if char == ' ':\n",
    "        if word:\n",
    "            words.append(word)\n",
    "            word = \"\"\n",
    "    else:\n",
    "        word += char\n",
    "if word:\n",
    "    words.append(word)\n",
    "\n",
    "print(\"Words:\", words)\n"
   ]
  },
  {
   "cell_type": "code",
   "execution_count": 49,
   "metadata": {},
   "outputs": [
    {
     "name": "stdout",
     "output_type": "stream",
     "text": [
      "entered string is :hello, welcome home\n",
      "Repeated characters:  ohlme\n"
     ]
    }
   ],
   "source": [
    "# 26. Find the repeated characters in a string\n",
    "user_input = input(\"Enter a string: \")\n",
    "print(f\"entered string is :{user_input}\")\n",
    "repeated_chars = set()\n",
    "seen_chars = set()\n",
    "\n",
    "for char in user_input:\n",
    "    if char in seen_chars:\n",
    "        repeated_chars.add(char)\n",
    "    else:\n",
    "        seen_chars.add(char)\n",
    "\n",
    "print(\"Repeated characters:\", ''.join(repeated_chars))\n"
   ]
  },
  {
   "cell_type": "code",
   "execution_count": 52,
   "metadata": {},
   "outputs": [
    {
     "name": "stdout",
     "output_type": "stream",
     "text": [
      "entered string is: hello python\n",
      "Character count:\n",
      "h: 2\n",
      "e: 1\n",
      "l: 2\n",
      "o: 2\n",
      " : 1\n",
      "p: 1\n",
      "y: 1\n",
      "t: 1\n",
      "n: 1\n"
     ]
    }
   ],
   "source": [
    "# 27. Count each character in a given string\n",
    "user_input = input(\"Enter a string: \")\n",
    "print(f\"entered string is: {user_input}\")\n",
    "char_count = {}\n",
    "for char in user_input:\n",
    "    if char in char_count:\n",
    "        char_count[char] += 1\n",
    "    else:\n",
    "        char_count[char] = 1\n",
    "\n",
    "print(\"Character count:\")\n",
    "for char, count in char_count.items():\n",
    "    print(f\"{char}: {count}\")\n"
   ]
  },
  {
   "cell_type": "code",
   "execution_count": 53,
   "metadata": {},
   "outputs": [
    {
     "name": "stdout",
     "output_type": "stream",
     "text": [
      "entered string is: Hello welcome to python tutorial\n",
      "Modified string: HEllO wElcOmE tO pythOn tUtOrIAl\n"
     ]
    }
   ],
   "source": [
    "# 28. Convert vowels into uppercase characters in a string\n",
    "user_input = input(\"Enter a string: \")\n",
    "print(f\"entered string is: {user_input}\")\n",
    "vowels = \"aeiou\"\n",
    "modified_string = \"\"\n",
    "for char in user_input:\n",
    "    if char.lower() in vowels:\n",
    "        modified_string += char.upper()\n",
    "    else:\n",
    "        modified_string += char\n",
    "\n",
    "print(\"Modified string:\", modified_string)\n"
   ]
  },
  {
   "cell_type": "code",
   "execution_count": 54,
   "metadata": {},
   "outputs": [
    {
     "name": "stdout",
     "output_type": "stream",
     "text": [
      "enterd string is: aabbbsbbsh\n",
      "Length of the longest substring without repeating characters: 3\n"
     ]
    }
   ],
   "source": [
    "# 29. Find the length of the longest substring without repeating characters\n",
    "user_input = input(\"Enter a string: \")\n",
    "print(f\"enterd string is: {user_input}\")\n",
    "max_length = 0\n",
    "start = 0\n",
    "char_index = {}\n",
    "\n",
    "for i, char in enumerate(user_input):\n",
    "    if char in char_index and char_index[char] >= start:\n",
    "        start = char_index[char] + 1\n",
    "    char_index[char] = i\n",
    "    max_length = max(max_length, i - start + 1)\n",
    "\n",
    "print(\"Length of the longest substring without repeating characters:\", max_length)\n"
   ]
  }
 ],
 "metadata": {
  "kernelspec": {
   "display_name": "Python 3",
   "language": "python",
   "name": "python3"
  },
  "language_info": {
   "codemirror_mode": {
    "name": "ipython",
    "version": 3
   },
   "file_extension": ".py",
   "mimetype": "text/x-python",
   "name": "python",
   "nbconvert_exporter": "python",
   "pygments_lexer": "ipython3",
   "version": "3.10.2"
  }
 },
 "nbformat": 4,
 "nbformat_minor": 2
}
