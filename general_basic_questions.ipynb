{
 "cells": [
  {
   "cell_type": "markdown",
   "metadata": {},
   "source": [
    "GENARAL BASIC QUESTIONS\n"
   ]
  },
  {
   "cell_type": "code",
   "execution_count": 1,
   "metadata": {},
   "outputs": [
    {
     "name": "stdout",
     "output_type": "stream",
     "text": [
      "the reverse of the string anjali krishna is anhsirk ilajna\n",
      "ilajna anhsirk \n",
      "\n",
      "frnd hello\n"
     ]
    }
   ],
   "source": [
    "'''\n",
    "1. write a program to print the following characters in a reverse way\n",
    "'''\n",
    "\n",
    "\n",
    "a = \"anjali krishna\"\n",
    "print(\"the reverse of the string {} is {}\".format(a, a[::-1]))\n",
    "\n",
    "\n",
    "for i in a.split(\" \"):\n",
    "    # print(i)\n",
    "    print(\"\".join(i)[::-1], end=\" \")\n",
    "    \n",
    "print(\"\\n\")\n",
    "b=\"hello frnd\"\n",
    "for i in b.split(\"\\n\"):\n",
    "    print(\" \".join(i.split()[::-1]))\n",
    "\n"
   ]
  },
  {
   "cell_type": "code",
   "execution_count": 2,
   "metadata": {},
   "outputs": [
    {
     "name": "stdout",
     "output_type": "stream",
     "text": [
      "Perimeter of the rectangle is 24\n",
      "area of rectangle is 35\n"
     ]
    }
   ],
   "source": [
    "'''\n",
    "2. Write a program to compute the perimeter and area of a rectangle with a\n",
    "height of 7 inches. and width of 5 inches.\n",
    "'''\n",
    "class rectangle:\n",
    "    def __init__(self, width, height) -> None:\n",
    "        self.width = width\n",
    "        self.height = height\n",
    "    def perimeter(self):\n",
    "        return 2*(self.width + self.height)\n",
    "    def area(self):\n",
    "        return self.width*self.height\n",
    "\n",
    "width = 5\n",
    "height = 7\n",
    "\n",
    "my_rectangle = rectangle(width, height)\n",
    "perimeter = my_rectangle.perimeter()\n",
    "area = my_rectangle.area()\n",
    "\n",
    "print(\"Perimeter of the rectangle is {}\".format(perimeter))\n",
    "print(\"area of rectangle is {}\".format(area))\n"
   ]
  },
  {
   "cell_type": "code",
   "execution_count": 3,
   "metadata": {},
   "outputs": [
    {
     "name": "stdout",
     "output_type": "stream",
     "text": [
      "perimeter of the circle is 31.400000000000002\n",
      "area of the circle is 78.5\n"
     ]
    }
   ],
   "source": [
    "'''\n",
    "3. Write a program to compute the perimeter and area of a circle with a\n",
    "given radius\n",
    "'''\n",
    "\n",
    "r = int(input(\"enter the radius of the circle :\"))\n",
    "p = 2 * 3.14 * r\n",
    "a = 3.14 *r* r\n",
    "print(\"perimeter of the circle is {}\".format(p))\n",
    "print(\"area of the circle is {}\".format(a))\n"
   ]
  },
  {
   "cell_type": "code",
   "execution_count": 4,
   "metadata": {},
   "outputs": [
    {
     "name": "stdout",
     "output_type": "stream",
     "text": [
      "Name: John\n",
      "Age: 25\n",
      "Height: 5.9 feet\n",
      "Is Student: True\n"
     ]
    }
   ],
   "source": [
    "'''4. Write a program to display multiple variables'''\n",
    "\n",
    "name = \"John\"\n",
    "age = 25\n",
    "height = 5.9\n",
    "is_student = True\n",
    "\n",
    "# Displaying the variables\n",
    "print(\"Name:\", name)\n",
    "print(\"Age:\", age)\n",
    "print(\"Height:\", height, \"feet\")\n",
    "print(\"Is Student:\", is_student)"
   ]
  },
  {
   "cell_type": "code",
   "execution_count": 5,
   "metadata": {},
   "outputs": [
    {
     "name": "stdout",
     "output_type": "stream",
     "text": [
      "4000\n",
      "10\n",
      "50\n",
      "0\n",
      "10 year 50 week 0 days\n"
     ]
    }
   ],
   "source": [
    "'''5. Write a program to convert specified days into years, weeks and\n",
    "days(note:ignore leap year)'''\n",
    "\n",
    "enteredDays = int(input(\"enter the days :\"))\n",
    "year = enteredDays // 365\n",
    "week = (enteredDays % 365) // 7\n",
    "days = enteredDays - ((year * 365) + (week * 7))\n",
    "print(enteredDays)\n",
    "print(year)\n",
    "print(week)\n",
    "print(days)\n",
    "print(\"{} year {} week {} days\".format(year, week, days))\n"
   ]
  },
  {
   "cell_type": "code",
   "execution_count": 6,
   "metadata": {},
   "outputs": [
    {
     "name": "stdout",
     "output_type": "stream",
     "text": [
      "the sum of 22 and 21 is = 43\n"
     ]
    }
   ],
   "source": [
    "'''6. Write a program that accepts two integers from the user and calculate\n",
    "the sum of the two integers'''\n",
    "\n",
    "a = int(input(\"enter a first number :\"))\n",
    "b = int(input(\"enter a second\"))\n",
    "sumOfTwo = a+b\n",
    "print(\"the sum of {} and {} is = {}\".format(a, b, sumOfTwo))"
   ]
  },
  {
   "cell_type": "code",
   "execution_count": 7,
   "metadata": {},
   "outputs": [
    {
     "name": "stdout",
     "output_type": "stream",
     "text": [
      "The product of 122 and 89 is 10858\n"
     ]
    }
   ],
   "source": [
    "'''7. Write a program that accepts two integers from the user and calculate\n",
    "the product of the two integers'''\n",
    "\n",
    "a = int(input(\"enter first number :\"))\n",
    "b = int(input(\"enter second number :\"))\n",
    "product = a * b\n",
    "print(\"The product of {} and {} is {}\".format(a, b, product))"
   ]
  },
  {
   "cell_type": "code",
   "execution_count": 8,
   "metadata": {},
   "outputs": [
    {
     "name": "stdout",
     "output_type": "stream",
     "text": [
      "average value of an items is : 91.29411764705883\n"
     ]
    }
   ],
   "source": [
    "'''8. Write a program that accepts two item’s weight (floating points' values )\n",
    "and number of purchase (floating points' values) and calculate the average\n",
    "value of the items\n",
    "'''\n",
    "\n",
    "w1 = float(input(\"weight of the first iteam :\"))\n",
    "n2 = float(input(\"enter the number of iteam :\"))\n",
    "n1 = float(input(\"enter the number of iteam :\"))\n",
    "w2 = float(input(\"weight of the second iteam :\")) \n",
    "avg = ((w1 * n1) + (w2 * n2)) / (n1+n2)\n",
    "print(\"average value of an items is :\", avg)"
   ]
  },
  {
   "cell_type": "code",
   "execution_count": 10,
   "metadata": {},
   "outputs": [
    {
     "name": "stdout",
     "output_type": "stream",
     "text": [
      "the distance b/w the two points is 18.0\n"
     ]
    }
   ],
   "source": [
    "'''9. Write a program to calculate the distance between the two points'''\n",
    "\n",
    "import math\n",
    "\n",
    "def distance_bw_points(x1,x2,y1,y2):\n",
    "    return math.sqrt((x2 - x2)**2 +(y2 - y1)**2)\n",
    "\n",
    "x1 , x2, y1, y2 = input(\"enter values x1,x2,y1,y2 :\").split(\",\")\n",
    "distance = distance_bw_points(int(x1), int(x2), int(y1), int(y2))\n",
    "print(\"the distance b/w the two points is {}\".format(distance))\n"
   ]
  },
  {
   "cell_type": "code",
   "execution_count": 11,
   "metadata": {},
   "outputs": [
    {
     "name": "stdout",
     "output_type": "stream",
     "text": [
      "2333 seconds is equal to 0 hours, 38 minutes, and 53 seconds.\n"
     ]
    }
   ],
   "source": [
    "'''10. Write a program to convert a given integer (in seconds) to hours,\n",
    "minutes and seconds'''\n",
    "\n",
    "seconds = int(input(\"Enter the number of seconds: \"))\n",
    "\n",
    "# Convert seconds to hours, minutes, and seconds\n",
    "hours = seconds // 3600\n",
    "minutes = (seconds % 3600) // 60\n",
    "remaining_seconds = seconds % 60\n",
    "\n",
    "# Display the result\n",
    "print(f\"{seconds} seconds is equal to {hours} hours, {minutes} minutes, and {remaining_seconds} seconds.\")"
   ]
  },
  {
   "cell_type": "code",
   "execution_count": 12,
   "metadata": {},
   "outputs": [
    {
     "name": "stdout",
     "output_type": "stream",
     "text": [
      "day is equal to 0 years, 4 months, and 3 days\n"
     ]
    }
   ],
   "source": [
    "'''11. Write a program to convert a given integer (in days) to years, months\n",
    "and days, assumes that all months have 30 days and all years have 365\n",
    "days\n",
    "'''\n",
    "\n",
    "def convert_day_to_year_month_days(days):\n",
    "    year = days // 365\n",
    "    remaining_days = days % 365\n",
    "    months = remaining_days //30\n",
    "    remaining_days = remaining_days % 30\n",
    "    return year, months, remaining_days\n",
    "\n",
    "days = int(input(\"enter a days :\"))\n",
    "year, months,remaining_days = convert_day_to_year_month_days(days)\n",
    "print(\"day is equal to {} years, {} months, and {} days\".format(year, months, remaining_days)) "
   ]
  },
  {
   "cell_type": "code",
   "execution_count": 19,
   "metadata": {},
   "outputs": [
    {
     "data": {
      "text/plain": [
       "'12. Write a program that accepts 4 integers p, q, r, s from the user where\\nq, r and s are positive and p is even. If q is greater than r and s is greater\\nthan p and if the sum of r and s is greater than the sum of p and q print\\n\"Correct values\", otherwise print \"Wrong values\".\\n'"
      ]
     },
     "execution_count": 19,
     "metadata": {},
     "output_type": "execute_result"
    }
   ],
   "source": [
    "'''12. Write a program that accepts 4 integers p, q, r, s from the user where\n",
    "q, r and s are positive and p is even. If q is greater than r and s is greater\n",
    "than p and if the sum of r and s is greater than the sum of p and q print\n",
    "\"Correct values\", otherwise print \"Wrong values\".\n",
    "'''\n",
    "\n",
    "# p,q,r,s = input(\"enter a,b,c,d :\").split(\",\")\n",
    "# p,q,r,s = int(p), int(q), int(r), int(s)\n",
    "# if q>r & s>p & sum(r+s) > sum(p+q) & p% 2==0:\n",
    "#     print(\"Correct\")\n",
    "# else:\n",
    "#     print(\"Wrong\")\n",
    "\n"
   ]
  },
  {
   "cell_type": "code",
   "execution_count": 20,
   "metadata": {},
   "outputs": [
    {
     "name": "stdout",
     "output_type": "stream",
     "text": [
      "Error: The number is negative or greater than 80\n"
     ]
    }
   ],
   "source": [
    "'''13. Write a program that reads an integer and check the specified range\n",
    "where it belongs. Print an error message if the number is negative and\n",
    "greater than 80'''\n",
    "\n",
    "\n",
    "number = int(input(\"enter an number:\"))\n",
    "if number < 0 or number > 80:\n",
    "    print(\"Error: The number is negative or greater than 80\")\n",
    "else:\n",
    "    print(\"The number is in specified range\")"
   ]
  },
  {
   "cell_type": "code",
   "execution_count": 23,
   "metadata": {},
   "outputs": [
    {
     "name": "stdout",
     "output_type": "stream",
     "text": [
      "15\n"
     ]
    }
   ],
   "source": [
    "'''14. Write a program that read 5 numbers and sum of all odd values\n",
    "between them.'''\n",
    "\n",
    "odd = 0\n",
    "for i in range(5):\n",
    "    number = int(input(f\"Enter number {i+1} :\"))\n",
    "    # print(number)\n",
    "    if number % 2 !=0:\n",
    "        odd += number\n",
    "\n",
    "print(odd)"
   ]
  },
  {
   "cell_type": "code",
   "execution_count": 24,
   "metadata": {},
   "outputs": [
    {
     "name": "stdout",
     "output_type": "stream",
     "text": [
      "The given values form a triangle with a perimeter of 12.00\n"
     ]
    }
   ],
   "source": [
    "'''15. Write a program that reads three floating values and check if it is\n",
    "possible to make a triangle with them. Also calculate the perimeter of the\n",
    "triangle if the said values are valid\n",
    "'''\n",
    "\n",
    "a = float(input(\"Enter the first side length: \"))\n",
    "b = float(input(\"Enter the second side length: \"))\n",
    "c = float(input(\"Enter the third side length: \"))\n",
    "\n",
    "# Check if it is possible to form a triangle\n",
    "if a + b > c and b + c > a and c + a > b:\n",
    "    # Calculate the perimeter of the triangle\n",
    "    perimeter = a + b + c\n",
    "\n",
    "    # Display the result\n",
    "    print(f\"The given values form a triangle with a perimeter of {perimeter:.2f}\")\n",
    "else:\n",
    "    print(\"The given values do not form a valid triangle.\")\n",
    "\n"
   ]
  },
  {
   "cell_type": "code",
   "execution_count": 25,
   "metadata": {},
   "outputs": [
    {
     "name": "stdout",
     "output_type": "stream",
     "text": [
      "Number of positive numbers: 3\n",
      "Number of negative numbers: 1\n"
     ]
    }
   ],
   "source": [
    "'''16. Write a program that read 5 numbers and counts the number of\n",
    "positive numbers and negative numbers'''\n",
    "\n",
    "# Initialize counters for positive and negative numbers\n",
    "positive_count = 0\n",
    "negative_count = 0\n",
    "\n",
    "# Read 5 numbers from the user\n",
    "for i in range(5):\n",
    "    number = float(input(f\"Enter number {i + 1}: \"))\n",
    "    \n",
    "    # Check if the number is positive, negative, or zero\n",
    "    if number > 0:\n",
    "        positive_count += 1\n",
    "    elif number < 0:\n",
    "        negative_count += 1\n",
    "\n",
    "# Display the counts\n",
    "print(f\"Number of positive numbers: {positive_count}\")\n",
    "print(f\"Number of negative numbers: {negative_count}\")"
   ]
  },
  {
   "cell_type": "code",
   "execution_count": 26,
   "metadata": {},
   "outputs": [
    {
     "name": "stdout",
     "output_type": "stream",
     "text": [
      "Number of positive values: 3\n",
      "Average of positive values: 47.33\n"
     ]
    }
   ],
   "source": [
    "'''17. Write a program that read 5 numbers and counts the number of\n",
    "positive numbers and print the average of all positive values\n",
    "'''\n",
    "\n",
    "# Initialize variables\n",
    "positive_count = 0\n",
    "sum_of_positives = 0\n",
    "\n",
    "# Read 5 numbers from the user\n",
    "for i in range(5):\n",
    "    number = float(input(f\"Enter number {i + 1}: \"))\n",
    "    \n",
    "    # Check if the number is positive\n",
    "    if number > 0:\n",
    "        positive_count += 1\n",
    "        sum_of_positives += number\n",
    "\n",
    "# Check if there are positive numbers to calculate the average\n",
    "if positive_count > 0:\n",
    "    average_of_positives = sum_of_positives / positive_count\n",
    "    print(f\"Number of positive values: {positive_count}\")\n",
    "    print(f\"Average of positive values: {average_of_positives:.2f}\")\n",
    "else:\n",
    "    print(\"No positive values entered.\")"
   ]
  },
  {
   "cell_type": "code",
   "execution_count": 27,
   "metadata": {},
   "outputs": [
    {
     "name": "stdout",
     "output_type": "stream",
     "text": [
      "1\n",
      "2\n",
      "3\n",
      "4\n",
      "5\n",
      "number of positive values : 5\n",
      "avg of positive values : 3.0\n"
     ]
    }
   ],
   "source": [
    "'''18. Write a program that read 5 numbers and counts the number of\n",
    "positive numbers and print the average of all positive values\n",
    "'''\n",
    "\n",
    "positive_count = 0\n",
    "sum_of_positive = 0\n",
    "\n",
    "for i in range(5):\n",
    "    number = int(input(\"enter number {} :\".format(i+1)))\n",
    "    print(number)\n",
    "    if number > 0:\n",
    "        positive_count += 1\n",
    "        sum_of_positive += number\n",
    "\n",
    "if positive_count > 0:\n",
    "    avg = sum_of_positive / positive_count\n",
    "    print(\"number of positive values :\",positive_count)\n",
    "    print(\"avg of positive values :\",avg)\n",
    "else:\n",
    "    print(\"no positive values\")"
   ]
  },
  {
   "cell_type": "code",
   "execution_count": 29,
   "metadata": {},
   "outputs": [
    {
     "name": "stdout",
     "output_type": "stream",
     "text": [
      "the square of 2 is : 4\n",
      "the square of 4 is : 16\n",
      "the square of 6 is : 36\n",
      "the square of 8 is : 64\n",
      "the square of 10 is : 100\n",
      "the square of 12 is : 144\n",
      "the square of 14 is : 196\n",
      "the square of 16 is : 256\n",
      "the square of 18 is : 324\n",
      "the square of 20 is : 400\n"
     ]
    }
   ],
   "source": [
    "'''19. Write a program to find and print the square of each one of the even\n",
    "values from 1 to a specified value.'''\n",
    "\n",
    "\n",
    "def square_of_even_values(specified_value):\n",
    "    for i in range(1, specified_value+1):\n",
    "        if i % 2 == 0:\n",
    "            square = i ** 2\n",
    "            print(\"the square of {} is : {}\".format(i, square))\n",
    "specified_value = int(input(\"enter a range :\"))\n",
    "square_of_even_values(specified_value)"
   ]
  },
  {
   "cell_type": "code",
   "execution_count": 30,
   "metadata": {},
   "outputs": [
    {
     "name": "stdout",
     "output_type": "stream",
     "text": [
      "22 is positive even\n"
     ]
    }
   ],
   "source": [
    "'''20. Write a program to check whether a given integer is positive even,\n",
    "negative even, positive odd or negative odd. Print even if the number is 0'''\n",
    "\n",
    "number = int(input(\"enter an integer :\"))\n",
    "if number == 0:\n",
    "    print(\"{} :the number is positive\".format(number))\n",
    "elif number > 0:\n",
    "    if number % 2 == 0:\n",
    "        print(\"{} is positive even\".format(number))\n",
    "    else:\n",
    "        print(\"{} is positive odd\".format(number))\n",
    "else:\n",
    "    if number % 2 == 0:\n",
    "        print(\"{} is negative even\".format(number))\n",
    "    else:\n",
    "        print(\"{} is negative odd\".format(number))\n",
    "        "
   ]
  },
  {
   "cell_type": "code",
   "execution_count": 33,
   "metadata": {},
   "outputs": [
    {
     "name": "stdout",
     "output_type": "stream",
     "text": [
      "3 , 9 , 15 , 21 , 27 , 33 , 39 , 45 , 51 , 57 , 63 , 69 , 75 , 81 , 87 , 93 , 99 , "
     ]
    }
   ],
   "source": [
    "'''21. Write a program to print all numbers between 1 to 100 which divided\n",
    "by a specified number and the remainder will be 3\n",
    "'''\n",
    "\n",
    "def print_numbers_with_remainder(specified_num):\n",
    "    for i in range(1, 101):\n",
    "        if i % specified_num == 3:\n",
    "            print(i, end=\" , \")\n",
    "specified_num = int(input(\"enter a specified number :\"))\n",
    "print_numbers_with_remainder(specified_num)"
   ]
  },
  {
   "cell_type": "code",
   "execution_count": 34,
   "metadata": {},
   "outputs": [
    {
     "name": "stdout",
     "output_type": "stream",
     "text": [
      "3,5,7,9,11,13,15,17,19,21,23,25,27,29,31,33,35,37,39,41,43,45,47,49,51,53,55,57,59,61,63,65,67,69,sum = <built-in function sum>\n"
     ]
    }
   ],
   "source": [
    "'''22. Write a program to compute the sum of consecutive odd numbers\n",
    "from a given pair of integers.\n",
    "'''\n",
    "\n",
    "def sum_consecutive_odd_numbers(start, end):\n",
    "    if start % 2 == 0:\n",
    "        start += 1\n",
    "    sum_val = 0\n",
    "    for i in range(start, end+1, 2):\n",
    "        sum_val += i\n",
    "        print(i, end=\",\")\n",
    "    return sum \n",
    "start_num = 2\n",
    "end_num = 70\n",
    "result = sum_consecutive_odd_numbers(start_num, end_num)\n",
    "print(\"sum =\",result)\n"
   ]
  },
  {
   "cell_type": "code",
   "execution_count": 35,
   "metadata": {},
   "outputs": [
    {
     "name": "stdout",
     "output_type": "stream",
     "text": [
      "Correct Password\n"
     ]
    }
   ],
   "source": [
    "'''23. Write a program to read a password until it is correct. For wrong\n",
    "password print \"Incorrect password\" and for correct password print\n",
    "\"Correct password\" and quit the program. The correct password is 1234\n",
    "'''\n",
    "\n",
    "correct_password = \"1234\"\n",
    "\n",
    "entered_password = input(\"enter the password :\")\n",
    "\n",
    "if entered_password == correct_password:\n",
    "    print(\"Correct Password\")\n",
    "\n",
    "else:\n",
    "    print(\"Incorrect Password\")"
   ]
  },
  {
   "cell_type": "code",
   "execution_count": 36,
   "metadata": {},
   "outputs": [
    {
     "name": "stdout",
     "output_type": "stream",
     "text": [
      "Sum of 3 + 6 = 9\n",
      "subtract of 3 - 6 = -3\n",
      "multiply of 3 * 6 = 18\n",
      "divide of 3 / 6 = 9\n"
     ]
    }
   ],
   "source": [
    "'''24. Write a program to perform addition, subtraction, multiplication and\n",
    "division of two numbers'''\n",
    "\n",
    "def pgms(num1, num2):\n",
    "    print(\"Sum of {} + {} = {}\".format(num1, num2,num1+num2))\n",
    "    print(\"subtract of {} - {} = {}\".format(num1, num2, num1-num2))\n",
    "    print(\"multiply of {} * {} = {}\".format(num1, num2, num1*num2))\n",
    "    print(\"divide of {} / {} = {}\".format(num1, num2, num1+num2))\n",
    "pgms(3,6)"
   ]
  }
 ],
 "metadata": {
  "kernelspec": {
   "display_name": "Python 3",
   "language": "python",
   "name": "python3"
  },
  "language_info": {
   "codemirror_mode": {
    "name": "ipython",
    "version": 3
   },
   "file_extension": ".py",
   "mimetype": "text/x-python",
   "name": "python",
   "nbconvert_exporter": "python",
   "pygments_lexer": "ipython3",
   "version": "3.10.2"
  }
 },
 "nbformat": 4,
 "nbformat_minor": 2
}
