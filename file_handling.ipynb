{
 "cells": [
  {
   "cell_type": "markdown",
   "metadata": {},
   "source": [
    "FILE HANDLING PROGRAMS"
   ]
  },
  {
   "cell_type": "code",
   "execution_count": 1,
   "metadata": {},
   "outputs": [],
   "source": [
    "# 1. Write a program in C to create and store information in a text file.\n",
    "def create_and_store_information(filename, information):\n",
    "    with open(filename, 'w') as file:\n",
    "        file.write(information)\n",
    "\n",
    "# Example usage\n",
    "filename = 'example.txt'\n",
    "information = 'This is an example of storing information in a text file.'\n",
    "create_and_store_information(filename, information)\n"
   ]
  },
  {
   "cell_type": "code",
   "execution_count": 2,
   "metadata": {},
   "outputs": [
    {
     "name": "stdout",
     "output_type": "stream",
     "text": [
      "This is an example of storing information in a text file.\n"
     ]
    }
   ],
   "source": [
    "# 2. Write a program to read an existing file\n",
    "def read_existing_file(filename):\n",
    "    with open(filename, 'r') as file:\n",
    "        content = file.read()\n",
    "    return content\n",
    "\n",
    "# Example usage\n",
    "filename = 'example.txt'\n",
    "content = read_existing_file(filename)\n",
    "print(content)\n"
   ]
  },
  {
   "cell_type": "code",
   "execution_count": 4,
   "metadata": {},
   "outputs": [],
   "source": [
    "# 3. Write a program in C to write multiple lines to a text file.\n",
    "\n",
    "def write_multiple_lines(filename, lines):\n",
    "    with open(filename, 'w') as file:\n",
    "        for line in lines:\n",
    "            file.write(line + '\\n')\n",
    "\n",
    "# Example usage\n",
    "filename = 'example.txt'\n",
    "lines = ['Line 1', 'Line 2', 'Line 3']\n",
    "write_multiple_lines(filename, lines)\n"
   ]
  },
  {
   "cell_type": "code",
   "execution_count": 6,
   "metadata": {},
   "outputs": [
    {
     "name": "stdout",
     "output_type": "stream",
     "text": [
      "['Line 1\\n', 'Line 2\\n', 'Line 3\\n']\n"
     ]
    }
   ],
   "source": [
    "# 4. Write a program to read the file and store the lines in an array.\n",
    "def read_lines_to_array(filename):\n",
    "    try:\n",
    "        with open(filename, 'r') as file:\n",
    "            lines = file.readlines()\n",
    "        return lines\n",
    "    except FileNotFoundError:\n",
    "        return \"File not found.\"\n",
    "\n",
    "# Example usage\n",
    "filename = 'example.txt'\n",
    "lines_array = read_lines_to_array(filename)\n",
    "print(lines_array)\n"
   ]
  },
  {
   "cell_type": "code",
   "execution_count": 8,
   "metadata": {},
   "outputs": [
    {
     "name": "stdout",
     "output_type": "stream",
     "text": [
      "Number of lines in example.txt: 3\n"
     ]
    }
   ],
   "source": [
    "# 5. Write a program to find the number of lines in a text file.\n",
    "def count_lines_in_file(filename):\n",
    "    try:\n",
    "        with open(filename, 'r') as file:\n",
    "            lines = file.readlines()\n",
    "        return len(lines)\n",
    "    except FileNotFoundError:\n",
    "        return \"File not found.\"\n",
    "\n",
    "# Example usage\n",
    "filename = 'example.txt'\n",
    "number_of_lines = count_lines_in_file(filename)\n",
    "print(f\"Number of lines in {filename}: {number_of_lines}\")\n"
   ]
  },
  {
   "cell_type": "code",
   "execution_count": 9,
   "metadata": {},
   "outputs": [
    {
     "name": "stdout",
     "output_type": "stream",
     "text": [
      "Content of example.txt:\n",
      "Line 1\n",
      "Line 2\n",
      "Line 3\n",
      "\n",
      "Number of lines: 3\n"
     ]
    }
   ],
   "source": [
    "# 6. Write a program to find the content of a file and the number of lines in a text file.\n",
    "def file_content_and_line_count(filename):\n",
    "    try:\n",
    "        with open(filename, 'r') as file:\n",
    "            lines = file.readlines()\n",
    "        content = ''.join(lines)\n",
    "        return content, len(lines)\n",
    "    except FileNotFoundError:\n",
    "        return \"File not found.\", 0\n",
    "\n",
    "# Example usage\n",
    "filename = 'example.txt'\n",
    "content, line_count = file_content_and_line_count(filename)\n",
    "print(f\"Content of {filename}:\\n{content}\")\n",
    "print(f\"Number of lines: {line_count}\")\n"
   ]
  },
  {
   "cell_type": "code",
   "execution_count": 10,
   "metadata": {},
   "outputs": [
    {
     "name": "stdout",
     "output_type": "stream",
     "text": [
      "Number of words in example.txt: 6\n",
      "Number of characters in example.txt: 21\n"
     ]
    }
   ],
   "source": [
    "# 7. Write a program to count the number of words and characters in a file.\n",
    "def count_words_and_characters(filename):\n",
    "    try:\n",
    "        with open(filename, 'r') as file:\n",
    "            content = file.read()\n",
    "        words = content.split()\n",
    "        num_words = len(words)\n",
    "        num_characters = len(content)\n",
    "        return num_words, num_characters\n",
    "    except FileNotFoundError:\n",
    "        return \"File not found.\", 0\n",
    "\n",
    "# Example usage\n",
    "filename = 'example.txt'\n",
    "words, characters = count_words_and_characters(filename)\n",
    "print(f\"Number of words in {filename}: {words}\")\n",
    "print(f\"Number of characters in {filename}: {characters}\")\n"
   ]
  },
  {
   "cell_type": "code",
   "execution_count": 11,
   "metadata": {},
   "outputs": [
    {
     "name": "stdout",
     "output_type": "stream",
     "text": [
      "Line 2 deleted.\n"
     ]
    }
   ],
   "source": [
    "# 8. Write a program to delete a specific line from a file\n",
    "def delete_specific_line(filename, line_number):\n",
    "    try:\n",
    "        with open(filename, 'r') as file:\n",
    "            lines = file.readlines()\n",
    "        if line_number < 1 or line_number > len(lines):\n",
    "            return \"Line number out of range.\"\n",
    "        del lines[line_number - 1]\n",
    "        with open(filename, 'w') as file:\n",
    "            file.writelines(lines)\n",
    "        return f\"Line {line_number} deleted.\"\n",
    "    except FileNotFoundError:\n",
    "        return \"File not found.\"\n",
    "\n",
    "# Example usage\n",
    "filename = 'example.txt'\n",
    "line_number = 2\n",
    "result = delete_specific_line(filename, line_number)\n",
    "print(result)\n"
   ]
  },
  {
   "cell_type": "code",
   "execution_count": 12,
   "metadata": {},
   "outputs": [
    {
     "name": "stdout",
     "output_type": "stream",
     "text": [
      "Line 2 replaced.\n"
     ]
    }
   ],
   "source": [
    "# 9. Write a program to replace a specific line with another text in a file.\n",
    "def replace_specific_line(filename, line_number, new_text):\n",
    "    try:\n",
    "        with open(filename, 'r') as file:\n",
    "            lines = file.readlines()\n",
    "        if line_number < 1 or line_number > len(lines):\n",
    "            return \"Line number out of range.\"\n",
    "        lines[line_number - 1] = new_text + '\\n'\n",
    "        with open(filename, 'w') as file:\n",
    "            file.writelines(lines)\n",
    "        return f\"Line {line_number} replaced.\"\n",
    "    except FileNotFoundError:\n",
    "        return \"File not found.\"\n",
    "\n",
    "# Example usage\n",
    "filename = 'example.txt'\n",
    "line_number = 2\n",
    "new_text = \"This is the new text.\"\n",
    "result = replace_specific_line(filename, line_number, new_text)\n",
    "print(result)\n"
   ]
  },
  {
   "cell_type": "code",
   "execution_count": 13,
   "metadata": {},
   "outputs": [
    {
     "name": "stdout",
     "output_type": "stream",
     "text": [
      "Lines appended to example.txt\n"
     ]
    }
   ],
   "source": [
    "# 10. Write a program to append multiple lines to the end of a text file.\n",
    "def append_multiple_lines(filename, lines):\n",
    "    with open(filename, 'a') as file:\n",
    "        file.writelines(lines)\n",
    "\n",
    "# Example usage\n",
    "filename = 'example.txt'\n",
    "lines = [\"Appended line 1\\n\", \"Appended line 2\\n\"]\n",
    "append_multiple_lines(filename, lines)\n",
    "print(f\"Lines appended to {filename}\")\n"
   ]
  },
  {
   "cell_type": "code",
   "execution_count": 14,
   "metadata": {},
   "outputs": [
    {
     "name": "stdout",
     "output_type": "stream",
     "text": [
      "File copied to example_copy.txt\n"
     ]
    }
   ],
   "source": [
    "# 11. Write a program to copy a file to another name.\n",
    "import shutil\n",
    "\n",
    "def copy_file(source, destination):\n",
    "    try:\n",
    "        shutil.copy(source, destination)\n",
    "        return f\"File copied to {destination}\"\n",
    "    except FileNotFoundError:\n",
    "        return \"Source file not found.\"\n",
    "\n",
    "# Example usage\n",
    "source = 'example.txt'\n",
    "destination = 'example_copy.txt'\n",
    "result = copy_file(source, destination)\n",
    "print(result)\n"
   ]
  },
  {
   "cell_type": "code",
   "execution_count": 16,
   "metadata": {},
   "outputs": [
    {
     "name": "stdout",
     "output_type": "stream",
     "text": [
      "Files merged into merged_file.txt\n"
     ]
    }
   ],
   "source": [
    "# 12. Write a program to merge two files and write them to another file.\n",
    "def merge_files(file1, file2, destination):\n",
    "    try:\n",
    "        with open(file1, 'r') as f1, open(file2, 'r') as f2, open(destination, 'w') as dest:\n",
    "            dest.writelines(f1.readlines())\n",
    "            dest.writelines(f2.readlines())\n",
    "        return f\"Files merged into {destination}\"\n",
    "    except FileNotFoundError as e:\n",
    "        return f\"File not found: {e.filename}\"\n",
    "\n",
    "# Example usage\n",
    "file1 = 'file1.txt'\n",
    "file2 = 'file2.txt'\n",
    "destination = 'merged_file.txt'\n",
    "result = merge_files(file1, file2, destination)\n",
    "print(result)\n"
   ]
  },
  {
   "cell_type": "code",
   "execution_count": 17,
   "metadata": {},
   "outputs": [
    {
     "name": "stdout",
     "output_type": "stream",
     "text": [
      "File example.txt encrypted.\n"
     ]
    }
   ],
   "source": [
    "# 13. Write a program to encrypt a text file\n",
    "def encrypt_file(filename, key=3):\n",
    "    try:\n",
    "        with open(filename, 'r') as file:\n",
    "            content = file.read()\n",
    "        encrypted_content = ''.join([chr(ord(char) + key) for char in content])\n",
    "        with open(filename, 'w') as file:\n",
    "            file.write(encrypted_content)\n",
    "        return f\"File {filename} encrypted.\"\n",
    "    except FileNotFoundError:\n",
    "        return \"File not found.\"\n",
    "\n",
    "# Example usage\n",
    "filename = 'example.txt'\n",
    "result = encrypt_file(filename)\n",
    "print(result)"
   ]
  },
  {
   "cell_type": "code",
   "execution_count": 18,
   "metadata": {},
   "outputs": [
    {
     "name": "stdout",
     "output_type": "stream",
     "text": [
      "File example.txt decrypted.\n"
     ]
    }
   ],
   "source": [
    "# 14. Write a program to decrypt a previously encrypted file.\n",
    "def decrypt_file(filename, key=3):\n",
    "    try:\n",
    "        with open(filename, 'r') as file:\n",
    "            content = file.read()\n",
    "        decrypted_content = ''.join([chr(ord(char) - key) for char in content])\n",
    "        with open(filename, 'w') as file:\n",
    "            file.write(decrypted_content)\n",
    "        return f\"File {filename} decrypted.\"\n",
    "    except FileNotFoundError:\n",
    "        return \"File not found.\"\n",
    "\n",
    "# Example usage\n",
    "filename = 'example.txt'\n",
    "result = decrypt_file(filename)\n",
    "print(result)\n"
   ]
  },
  {
   "cell_type": "code",
   "execution_count": 19,
   "metadata": {},
   "outputs": [
    {
     "name": "stdout",
     "output_type": "stream",
     "text": [
      "File example.txt removed.\n"
     ]
    }
   ],
   "source": [
    "# 15. Write a program to remove a file from the disk.\n",
    "import os\n",
    "\n",
    "def remove_file(filename):\n",
    "    try:\n",
    "        os.remove(filename)\n",
    "        return f\"File {filename} removed.\"\n",
    "    except FileNotFoundError:\n",
    "        return \"File not found.\"\n",
    "    except PermissionError:\n",
    "        return \"Permission denied.\"\n",
    "\n",
    "# Example usage\n",
    "filename = 'example.txt'\n",
    "result = remove_file(filename)\n",
    "print(result)"
   ]
  }
 ],
 "metadata": {
  "kernelspec": {
   "display_name": "Python 3",
   "language": "python",
   "name": "python3"
  },
  "language_info": {
   "codemirror_mode": {
    "name": "ipython",
    "version": 3
   },
   "file_extension": ".py",
   "mimetype": "text/x-python",
   "name": "python",
   "nbconvert_exporter": "python",
   "pygments_lexer": "ipython3",
   "version": "3.10.2"
  }
 },
 "nbformat": 4,
 "nbformat_minor": 2
}
