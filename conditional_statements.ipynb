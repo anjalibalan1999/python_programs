{
 "cells": [
  {
   "cell_type": "markdown",
   "metadata": {},
   "source": [
    "CONDITIONAL STATMENTS"
   ]
  },
  {
   "cell_type": "code",
   "execution_count": 1,
   "metadata": {},
   "outputs": [
    {
     "name": "stdout",
     "output_type": "stream",
     "text": [
      "sum of 4 + 3 = 7\n"
     ]
    }
   ],
   "source": [
    "'''1. Write a program to perform addition, subtraction, multiplication and\n",
    "division of two numbers\n",
    "'''\n",
    "choice = input(\"enter your choice (sum , sub, mul, div):\")\n",
    "if choice == \"sum\" or \"sub\" or \"mul\" or \"div\":\n",
    "    num1 = int(input(\"enter first number :\"))\n",
    "    num2 = int(input(\"enter a second number :\"))\n",
    "    if choice == \"sum\":\n",
    "        sumOfval = num1+num2\n",
    "        print(\"sum of {} + {} = {}\".format(num1,num2,sumOfval))\n",
    "    elif choice == \"sub\":\n",
    "        sub = num1-num2\n",
    "        print(\"sub of {} - {} = {}\".format(num1,num2,sub))\n",
    "    elif choice == \"mul\":\n",
    "        mul = num1*num2\n",
    "        print(\"mul of {} * {} = {}\".format(num1,num2,mul))\n",
    "    elif choice == \"div\":\n",
    "        div = num1 / num2\n",
    "        print(\"div of {} / {} = {}\".format(num1,num2,div))\n",
    "else:\n",
    "    print(\"Invalid input\")"
   ]
  },
  {
   "cell_type": "code",
   "execution_count": 2,
   "metadata": {},
   "outputs": [
    {
     "name": "stdout",
     "output_type": "stream",
     "text": [
      "33 and 42 are not equal\n"
     ]
    }
   ],
   "source": [
    "'''2. Write a program to accept two integers and check whether they are\n",
    "equal or not\n",
    "'''\n",
    "n1 = int(input(\"enter a number :\"))\n",
    "n2 = int(input(\"enter number 2\"))\n",
    "if n1 == n2:\n",
    "    print(\"{} and {} are equal number\".format(n1,n2))\n",
    "else:\n",
    "    print(\"{} and {} are not equal\".format(n1,n2))"
   ]
  },
  {
   "cell_type": "code",
   "execution_count": 3,
   "metadata": {},
   "outputs": [
    {
     "name": "stdout",
     "output_type": "stream",
     "text": [
      "month is 4 and number of days in the month is 30\n"
     ]
    }
   ],
   "source": [
    "'''3. Write a program in to read any Month Number in integer and display the\n",
    "number of days for this month.\n",
    "'''\n",
    "month_num = int(input(\"enter month\"))\n",
    "days_in_month = {\n",
    "    1: 31,  # January\n",
    "    2: 28,  # February (assuming a non-leap year)\n",
    "    3: 31,  # March\n",
    "    4: 30,  # April\n",
    "    5: 31,  # May\n",
    "    6: 30,  # June\n",
    "    7: 31,  # July\n",
    "    8: 31,  # August\n",
    "    9: 30,  # September\n",
    "    10: 31,  # October\n",
    "    11: 30,  # November\n",
    "    12: 31   # December\n",
    "}\n",
    "\n",
    "if 1<= month_num <= 12:\n",
    "    print(\"month is {} and number of days in the month is {}\".format(month_num, days_in_month[month_num]))"
   ]
  },
  {
   "cell_type": "code",
   "execution_count": 4,
   "metadata": {},
   "outputs": [
    {
     "name": "stdout",
     "output_type": "stream",
     "text": [
      "month is :7 and name of the month is :July\n"
     ]
    }
   ],
   "source": [
    "'''4. Write a program in to read any Month Number in integer and display\n",
    "Month name in the word.\n",
    "'''\n",
    "month_num = int(input(\"enter a month \"))\n",
    "month_names = {\n",
    "    1: \"January\",\n",
    "    2: \"February\",\n",
    "    3: \"March\",\n",
    "    4: \"April\",\n",
    "    5: \"May\",\n",
    "    6: \"June\",\n",
    "    7: \"July\",\n",
    "    8: \"August\",\n",
    "    9: \"September\",\n",
    "    10: \"October\",\n",
    "    11: \"November\",\n",
    "    12: \"December\"\n",
    "}\n",
    "\n",
    "if 1<= month_num <=12:\n",
    "    print(\"month is :{} and name of the month is :{}\".format(month_num, month_names[month_num]))"
   ]
  },
  {
   "cell_type": "code",
   "execution_count": 5,
   "metadata": {},
   "outputs": [
    {
     "name": "stdout",
     "output_type": "stream",
     "text": [
      "The digit 7 in words is: Seven\n"
     ]
    }
   ],
   "source": [
    "'''5. Write a program in to read any digit, display in the word\n",
    "'''\n",
    "\n",
    "digit = int(input(\"Enter a digit (0-9): \"))\n",
    "digit_words = {\n",
    "    0: \"Zero\",\n",
    "    1: \"One\",\n",
    "    2: \"Two\",\n",
    "    3: \"Three\",\n",
    "    4: \"Four\",\n",
    "    5: \"Five\",\n",
    "    6: \"Six\",\n",
    "    7: \"Seven\",\n",
    "    8: \"Eight\",\n",
    "    9: \"Nine\"\n",
    "}\n",
    "if 0 <= digit <= 9:\n",
    "    print(f\"The digit {digit} in words is: {digit_words[digit]}\")\n",
    "else:\n",
    "    print(\"Invalid digit. Please enter a number between 0 and 9.\")\n"
   ]
  },
  {
   "cell_type": "code",
   "execution_count": 6,
   "metadata": {},
   "outputs": [
    {
     "name": "stdout",
     "output_type": "stream",
     "text": [
      "number: 3, day :Wednesday\n"
     ]
    }
   ],
   "source": [
    "'''6. Write a program in to read any day number in integer and display day\n",
    "name in the word\n",
    "'''\n",
    "\n",
    "n = int(input(\"enter a number:\"))\n",
    "day_name = {\n",
    "    1: \"monday\", \n",
    "    2: \"Tuesday\",\n",
    "    3: \"Wednesday\",\n",
    "    4: \"Thursday\",\n",
    "    5: \"Friday\",\n",
    "    6: \"Saturday\",\n",
    "    7: \"Sunday\"\n",
    "}\n",
    "if 1 <= n <=7:\n",
    "    print(\"number: {}, day :{}\".format(n, day_name[n]))\n",
    "else:\n",
    "    print(\"Please enter the value 1 to 7\")"
   ]
  },
  {
   "cell_type": "code",
   "execution_count": 7,
   "metadata": {},
   "outputs": [
    {
     "name": "stdout",
     "output_type": "stream",
     "text": [
      "55 is positive number\n"
     ]
    }
   ],
   "source": [
    "'''7. Write a program to check whether a given number is positive or\n",
    "negative\n",
    "'''\n",
    "\n",
    "n = int(input(\"enter a number :\"))\n",
    "if n > 0:\n",
    "    print(\"{} is positive number\".format(n))\n",
    "else:\n",
    "    print(\"{} is negative number\".format(n))"
   ]
  },
  {
   "cell_type": "code",
   "execution_count": 8,
   "metadata": {},
   "outputs": [
    {
     "name": "stdout",
     "output_type": "stream",
     "text": [
      "4000 is leap year\n"
     ]
    }
   ],
   "source": [
    "'''8. Write a program to find whether a given year is a leap year or not.\n",
    "'''\n",
    "\n",
    "n = int(input(\"enter a year\"))\n",
    "if (n % 4 == 0 and n % 100 != 0) or n % 400 ==0:\n",
    "    print(\"{} is leap year\".format(n))\n",
    "else:\n",
    "    print(\"{} is not a leap year\".format(n))"
   ]
  },
  {
   "cell_type": "code",
   "execution_count": 9,
   "metadata": {},
   "outputs": [
    {
     "name": "stdout",
     "output_type": "stream",
     "text": [
      "you are not eligible to vote. wait untill you turn 18\n"
     ]
    }
   ],
   "source": [
    "'''9. Write a program to read the age of a candidate and determine whether\n",
    "it is eligible for casting his/her own vote\n",
    "'''\n",
    "\n",
    "age = int(input(\"enter the age :\"))\n",
    "if age >= 18:\n",
    "    print(\"you are eligible to cast your vote\")\n",
    "else:\n",
    "    print(\"you are not eligible to vote. wait untill you turn 18\")"
   ]
  },
  {
   "cell_type": "code",
   "execution_count": 10,
   "metadata": {},
   "outputs": [
    {
     "name": "stdout",
     "output_type": "stream",
     "text": [
      "entered value is 2\n",
      "1\n"
     ]
    }
   ],
   "source": [
    "'''10. Write a program to read the value of an integer m and display the\n",
    "value of n is 1 when m is larger than 0, 0 when m is 0 and -1 when m is\n",
    "less than 0\n",
    "'''\n",
    "\n",
    "m = int(input(\"enter a number :\"))\n",
    "print(\"entered value is {}\".format(m))\n",
    "if m > 0:\n",
    "    n = 1\n",
    "elif m == 0:\n",
    "    n=0\n",
    "else:\n",
    "    n=-1\n",
    "    \n",
    "print(n)\n",
    "    "
   ]
  },
  {
   "cell_type": "code",
   "execution_count": 11,
   "metadata": {},
   "outputs": [
    {
     "name": "stdout",
     "output_type": "stream",
     "text": [
      "average height\n"
     ]
    }
   ],
   "source": [
    "'''11.Write a program to accept the height of a person in centimeter and\n",
    "categorize the person according to their height.\n",
    "'''\n",
    "\n",
    "height_cm = float(input(\"enter the height in  cm :\"))\n",
    "if height_cm < 150:\n",
    "    category = \"short stature\"\n",
    "elif 150<= height_cm <170:\n",
    "    category = \"average height\"\n",
    "else:\n",
    "    category = \"tall satatus\"\n",
    "\n",
    "print(category)"
   ]
  },
  {
   "cell_type": "code",
   "execution_count": 12,
   "metadata": {},
   "outputs": [
    {
     "name": "stdout",
     "output_type": "stream",
     "text": [
      "10\n",
      "10 is largest number\n"
     ]
    }
   ],
   "source": [
    "'''\n",
    "12. Write a program to find the largest of three numbers.\n",
    "'''\n",
    "n1 = 8\n",
    "n2 = 3\n",
    "n3 = 10\n",
    "largest_num = max(n1,n2,n3)\n",
    "print(largest_num)\n",
    "\n",
    "\n",
    "\n",
    "if n1>n2 and n1>n3:\n",
    "    print(\"{} is largest number\".format(n1))\n",
    "elif n2>n1 and n2>n3:\n",
    "    print(\"{} is largest number\".format(n2))\n",
    "else:\n",
    "    print(\"{} is largest number\".format(n3))\n",
    "\n",
    "\n"
   ]
  },
  {
   "cell_type": "code",
   "execution_count": 13,
   "metadata": {},
   "outputs": [
    {
     "name": "stdout",
     "output_type": "stream",
     "text": [
      "The candidate is not eligible.\n"
     ]
    }
   ],
   "source": [
    "'''\n",
    "13. Write a program to find the eligibility of admission for a professional\n",
    "course based on the following criteria:\n",
    "Eligibility Criteria : Marks in Maths >=65 and Marks in Phy >=55 and Marks\n",
    "in Chem>=50 and Total in all three subject >=190 or Total in Maths and\n",
    "Physics >=140 ------------------------------------- Input the marks obtained in\n",
    "Physics :65 Input the marks obtained in Chemistry :51 Input the marks\n",
    "obtained in Mathematics :72 Total marks of Maths, Physics and Chemistry\n",
    ": 188 Total marks of Maths and Physics : 137 The candidate is not eligible.'''\n",
    "\n",
    "\n",
    "# Input the marks obtained in Physics, Chemistry, and Mathematics\n",
    "marks_physics = float(input(\"Input the marks obtained in Physics: \"))\n",
    "marks_chemistry = float(input(\"Input the marks obtained in Chemistry: \"))\n",
    "marks_maths = float(input(\"Input the marks obtained in Mathematics: \"))\n",
    "\n",
    "# Calculate the total marks for all three subjects and for Maths and Physics\n",
    "total_all_subjects = marks_physics + marks_chemistry + marks_maths\n",
    "total_maths_physics = marks_maths + marks_physics\n",
    "\n",
    "# Check eligibility based on the criteria\n",
    "if marks_maths >= 65 and marks_physics >= 55 and marks_chemistry >= 50 and (total_all_subjects >= 190 or total_maths_physics >= 140):\n",
    "    eligibility_status = \"The candidate is eligible.\"\n",
    "else:\n",
    "    eligibility_status = \"The candidate is not eligible.\"\n",
    "\n",
    "# Display the eligibility status\n",
    "print(eligibility_status)\n"
   ]
  },
  {
   "cell_type": "code",
   "execution_count": 14,
   "metadata": {},
   "outputs": [
    {
     "name": "stdout",
     "output_type": "stream",
     "text": [
      "\n",
      "Student Information:\n",
      "Roll No: 3\n",
      "Name: john\n",
      "\n",
      "Subject-wise Marks:\n",
      "Subject 1: 89.0\n",
      "Subject 2: 77.0\n",
      "Subject 3: 91.0\n",
      "\n",
      "Results:\n",
      "Total Marks: 257.0\n",
      "Percentage: 85.67%\n",
      "Division: First Division\n"
     ]
    }
   ],
   "source": [
    "'''14. Write a program to read roll no, name and marks of three subjects\n",
    "and calculate the total, percentage and division.\n",
    "'''\n",
    "\n",
    "# Input student information\n",
    "roll_no = input(\"Enter Roll No: \")\n",
    "name = input(\"Enter Name: \")\n",
    "marks_subject1 = float(input(\"Enter Marks in Subject 1: \"))\n",
    "marks_subject2 = float(input(\"Enter Marks in Subject 2: \"))\n",
    "marks_subject3 = float(input(\"Enter Marks in Subject 3: \"))\n",
    "\n",
    "# Calculate total, percentage, and division\n",
    "total_marks = marks_subject1 + marks_subject2 + marks_subject3\n",
    "percentage = (total_marks / 300) * 100\n",
    "\n",
    "# Define division based on percentage\n",
    "if percentage >= 75:\n",
    "    division = \"First Division\"\n",
    "elif percentage >= 60:\n",
    "    division = \"Second Division\"\n",
    "elif percentage >= 45:\n",
    "    division = \"Third Division\"\n",
    "else:\n",
    "    division = \"Fail\"\n",
    "\n",
    "# Display the results\n",
    "print(\"\\nStudent Information:\")\n",
    "print(f\"Roll No: {roll_no}\")\n",
    "print(f\"Name: {name}\")\n",
    "print(\"\\nSubject-wise Marks:\")\n",
    "print(f\"Subject 1: {marks_subject1}\")\n",
    "print(f\"Subject 2: {marks_subject2}\")\n",
    "print(f\"Subject 3: {marks_subject3}\")\n",
    "print(\"\\nResults:\")\n",
    "print(f\"Total Marks: {total_marks}\")\n",
    "print(f\"Percentage: {percentage:.2f}%\")\n",
    "print(f\"Division: {division}\")\n"
   ]
  },
  {
   "cell_type": "code",
   "execution_count": 15,
   "metadata": {},
   "outputs": [
    {
     "name": "stdout",
     "output_type": "stream",
     "text": [
      "It's Very Hot\n"
     ]
    }
   ],
   "source": [
    "'''15. Write a program to read temperature in centigrade and display a\n",
    "suitable message according to temperature state below :\n",
    "Temp < 0 then Freezing weather\n",
    "Temp 0-10 then Very Cold weather\n",
    "Temp 10-20 then Cold weather\n",
    "Temp 20-30 then Normal in Temp\n",
    "Temp 30-40 then Its Hot\n",
    "Temp >=40 then Its Very Hot\n",
    "'''\n",
    "\n",
    "# Read the temperature in Celsius from the user\n",
    "temperature_celsius = float(input(\"Enter the temperature in Celsius: \"))\n",
    "\n",
    "# Define temperature states based on temperature ranges\n",
    "if temperature_celsius < 0:\n",
    "    message = \"Freezing weather\"\n",
    "elif 0 <= temperature_celsius <= 10:\n",
    "    message = \"Very Cold weather\"\n",
    "elif 10 < temperature_celsius <= 20:\n",
    "    message = \"Cold weather\"\n",
    "elif 20 < temperature_celsius <= 30:\n",
    "    message = \"Normal in Temp\"\n",
    "elif 30 < temperature_celsius <= 40:\n",
    "    message = \"It's Hot\"\n",
    "else:\n",
    "    message = \"It's Very Hot\"\n",
    "\n",
    "# Display the suitable message according to the temperature state\n",
    "print(message)\n"
   ]
  },
  {
   "cell_type": "code",
   "execution_count": 16,
   "metadata": {},
   "outputs": [
    {
     "name": "stdout",
     "output_type": "stream",
     "text": [
      "a is an alphabet.\n"
     ]
    }
   ],
   "source": [
    "'''16. Write a program to check whether a character is an alphabet, digit or\n",
    "special character\n",
    "'''\n",
    "\n",
    "# Read a character from the user\n",
    "char = input(\"Enter a character: \")\n",
    "\n",
    "# Check if the character is an alphabet\n",
    "if char.isalpha():\n",
    "    print(f\"{char} is an alphabet.\")\n",
    "# Check if the character is a digit\n",
    "elif char.isdigit():\n",
    "    print(f\"{char} is a digit.\")\n",
    "# Check if the character is a special character\n",
    "else:\n",
    "    print(f\"{char} is a special character.\")\n"
   ]
  },
  {
   "cell_type": "code",
   "execution_count": 17,
   "metadata": {},
   "outputs": [
    {
     "name": "stdout",
     "output_type": "stream",
     "text": [
      "a is a vowel.\n"
     ]
    }
   ],
   "source": [
    "'''17. Write a program to check whether an alphabet is a vowel or\n",
    "consonant.'''\n",
    "\n",
    "# Read an alphabet from the user\n",
    "alphabet = input(\"Enter an alphabet: \")\n",
    "\n",
    "# Define a list of vowels\n",
    "vowels = ['a', 'e', 'i', 'o', 'u']\n",
    "\n",
    "# Check if the entered alphabet is a vowel or consonant\n",
    "if alphabet.lower() in vowels:\n",
    "    print(f\"{alphabet} is a vowel.\")\n",
    "else:\n",
    "    print(f\"{alphabet} is a consonant.\")\n"
   ]
  },
  {
   "cell_type": "code",
   "execution_count": 18,
   "metadata": {},
   "outputs": [
    {
     "name": "stdout",
     "output_type": "stream",
     "text": [
      "\n",
      "Electricity Bill\n",
      "Customer ID: 33\n",
      "Customer Name: jack\n",
      "Units Consumed: 90\n",
      "Total Amount to Pay: Rs. 108.00\n"
     ]
    }
   ],
   "source": [
    "'''18. Write a program in to calculate and print the Electricity bill of a given\n",
    "customer. The customer id., name and unit consumed by the user should\n",
    "be taken from the keyboard and display the total amount to pay to the\n",
    "customer. The charge are as follow :\n",
    "Unit Charge/unit\n",
    "upto 199                                      @1.20\n",
    "200 and above but less than 400               @1.50\n",
    "400 and above but less than 600               @1.80\n",
    "600 and above                                 @2.00\n",
    "If bill exceeds Rs. 400 then a surcharge of 15% will be charged and the\n",
    "minimum bill should be of Rs. 100/-'''\n",
    "\n",
    "# Read customer information and units consumed from the user\n",
    "customer_id = input(\"Enter customer ID: \")\n",
    "customer_name = input(\"Enter customer name: \")\n",
    "units_consumed = int(input(\"Enter units consumed: \"))\n",
    "\n",
    "# Calculate total amount based on unit charges\n",
    "if units_consumed <= 199:\n",
    "    charge_per_unit = 1.20\n",
    "elif 200 <= units_consumed < 400:\n",
    "    charge_per_unit = 1.50\n",
    "elif 400 <= units_consumed < 600:\n",
    "    charge_per_unit = 1.80\n",
    "else:\n",
    "    charge_per_unit = 2.00\n",
    "\n",
    "total_amount = units_consumed * charge_per_unit\n",
    "\n",
    "# Check if total bill exceeds Rs. 400 and apply surcharge if needed\n",
    "if total_amount > 400:\n",
    "    surcharge = total_amount * 0.15\n",
    "    total_amount += surcharge\n",
    "\n",
    "# Ensure minimum bill of Rs. 100\n",
    "if total_amount < 100:\n",
    "    total_amount = 100\n",
    "\n",
    "# Display the total amount to pay\n",
    "print(\"\\nElectricity Bill\")\n",
    "print(f\"Customer ID: {customer_id}\")\n",
    "print(f\"Customer Name: {customer_name}\")\n",
    "print(f\"Units Consumed: {units_consumed}\")\n",
    "print(f\"Total Amount to Pay: Rs. {total_amount:.2f}\")\n"
   ]
  }
 ],
 "metadata": {
  "kernelspec": {
   "display_name": "Python 3",
   "language": "python",
   "name": "python3"
  },
  "language_info": {
   "codemirror_mode": {
    "name": "ipython",
    "version": 3
   },
   "file_extension": ".py",
   "mimetype": "text/x-python",
   "name": "python",
   "nbconvert_exporter": "python",
   "pygments_lexer": "ipython3",
   "version": "3.10.2"
  }
 },
 "nbformat": 4,
 "nbformat_minor": 2
}
