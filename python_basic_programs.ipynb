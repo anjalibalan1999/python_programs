{
 "cells": [
  {
   "cell_type": "markdown",
   "metadata": {},
   "source": [
    "BASIC QUESTIONS FOR PYTHON\n"
   ]
  },
  {
   "cell_type": "code",
   "execution_count": 1,
   "metadata": {},
   "outputs": [
    {
     "name": "stdout",
     "output_type": "stream",
     "text": [
      "824\n"
     ]
    }
   ],
   "source": [
    "'''\n",
    "1. Write a program that converts Centigrade to Fahrenheit'''\n",
    "\n",
    "# f = (18* celsius)+ 32\n",
    "\n",
    "c = int(input(\"enter a celsius :\"))\n",
    "print((18*c)+32)\n"
   ]
  },
  {
   "cell_type": "code",
   "execution_count": 2,
   "metadata": {},
   "outputs": [
    {
     "name": "stdout",
     "output_type": "stream",
     "text": [
      "volume of sphere is : 113.03999999999999\n"
     ]
    }
   ],
   "source": [
    "''' \n",
    "2. Write a program that calculates the volume of a sphere.\n",
    "'''\n",
    "\n",
    "#  v=4/3 * 3.14 * r**3\n",
    "\n",
    "r =int(input(\"enter radius of the sphere :\"))\n",
    "v= (4/3)*3.14*(r**3)\n",
    "print(\"volume of sphere is :\", v)"
   ]
  },
  {
   "cell_type": "code",
   "execution_count": 3,
   "metadata": {},
   "outputs": [
    {
     "name": "stdout",
     "output_type": "stream",
     "text": [
      "12.427425999999999 Mph\n"
     ]
    }
   ],
   "source": [
    "''' \n",
    "3 .Write a program that converts kilometers per hour to miles per hour\n",
    "'''\n",
    "\n",
    "#  1km = 0.6213713 mile\n",
    "#  kilometer per hour : 15, 15* 0.6213713 miles per hour\n",
    "\n",
    "kph = int(input(\"enter kilometer per hour :\"))\n",
    "print(kph* 0.6213713, \"Mph\")"
   ]
  },
  {
   "cell_type": "code",
   "execution_count": 4,
   "metadata": {},
   "outputs": [
    {
     "name": "stdout",
     "output_type": "stream",
     "text": [
      "perimeter of the rectangle is : 24\n"
     ]
    }
   ],
   "source": [
    "'''\n",
    "4 .Write a program that prints the perimeter of a rectangle to take its height\n",
    "and width as input\n",
    "'''\n",
    "\n",
    "#  rectangle sides opposite to each other are equal in length a=c , b=d\n",
    "\n",
    "a= int(input(\"enter values for a and c :\"))\n",
    "b = int(input(\"enter valuies for b and d :\"))\n",
    "p = 2*(a+b)\n",
    "print(\"perimeter of the rectangle is :\", p)"
   ]
  },
  {
   "cell_type": "code",
   "execution_count": 5,
   "metadata": {},
   "outputs": [
    {
     "name": "stdout",
     "output_type": "stream",
     "text": [
      "total number of min in 77hr 22min = 4642\n"
     ]
    }
   ],
   "source": [
    "'''\n",
    " 5. Write a program that takes hours and minutes as input, and calculates\n",
    "the total number of minutes\n",
    "'''\n",
    "\n",
    "\n",
    "# 5hr 37min = (5hr* 60min)= 300min , 300min+37=337min total\n",
    "\n",
    "hr = int(input(\"enter a total hour :\"))\n",
    "min = int(input(\"enter min :\"))\n",
    "total_min = (hr*60)+min\n",
    "print(\"total number of min in {}hr {}min = {}\".format(hr, min, total_min))"
   ]
  },
  {
   "cell_type": "code",
   "execution_count": 6,
   "metadata": {},
   "outputs": [
    {
     "name": "stdout",
     "output_type": "stream",
     "text": [
      "Total number of mins is : 1234\n",
      "Hrs = 20 and mins = 34\n"
     ]
    }
   ],
   "source": [
    "'''\n",
    "6. Write a program in that takes minutes as input, and display the total\n",
    "number of hours and minutes\n",
    "'''\n",
    "\n",
    "total_mins = int(input(\"enter total min:\"))\n",
    "hrs = total_mins // 60 \n",
    "min = total_mins % 60\n",
    "\n",
    "print(\"Total number of mins is :\",total_mins)\n",
    "print(\"Hrs = {} and mins = {}\".format(hrs, min))\n"
   ]
  },
  {
   "cell_type": "code",
   "execution_count": 8,
   "metadata": {},
   "outputs": [
    {
     "name": "stdout",
     "output_type": "stream",
     "text": [
      "2 <class 'str'>\n",
      "3 <class 'str'>\n",
      "4 <class 'str'>\n",
      "sum of 2 + 3 + 4 = 9\n"
     ]
    }
   ],
   "source": [
    "'''\n",
    "7. Write a program in to calculate the sum of three numbers with getting\n",
    "input in one line separated by a comma'''\n",
    "\n",
    "# a=int(input(\"enter 1st number :\"))\n",
    "# b=int(input(\"enter 2nd number :\"))\n",
    "# c=int(input(\"enter 3rd number :\"))\n",
    "# print(\"sum of {}+{}+{} is = {}\".format(a,b,c,a+b+c))\n",
    "\n",
    "a,b,c=input(\"enter a,b,c :\").split(\",\")\n",
    "print(a, type(a))\n",
    "print(b, type(b))\n",
    "print(c, type(c))\n",
    "sumOfThree= int(a)+int(b)+int(c)\n",
    "print(\"sum of {} + {} + {} = {}\".format(a,b,c,sumOfThree))\n"
   ]
  }
 ],
 "metadata": {
  "kernelspec": {
   "display_name": "Python 3",
   "language": "python",
   "name": "python3"
  },
  "language_info": {
   "codemirror_mode": {
    "name": "ipython",
    "version": 3
   },
   "file_extension": ".py",
   "mimetype": "text/x-python",
   "name": "python",
   "nbconvert_exporter": "python",
   "pygments_lexer": "ipython3",
   "version": "3.10.2"
  }
 },
 "nbformat": 4,
 "nbformat_minor": 2
}
